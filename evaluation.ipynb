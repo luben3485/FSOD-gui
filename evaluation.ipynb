{
 "cells": [
  {
   "cell_type": "code",
   "execution_count": 1,
   "metadata": {},
   "outputs": [],
   "source": [
    "import os\n",
    "import pickle"
   ]
  },
  {
   "cell_type": "code",
   "execution_count": 2,
   "metadata": {},
   "outputs": [],
   "source": [
    "def evaluation(net, dataset, n_ep):\n",
    "    cwd = os.getcwd()\n",
    "    AP = 0\n",
    "    AP_50 = 0\n",
    "    AP_75 = 0\n",
    "    AP_s = 0\n",
    "    AP_m = 0\n",
    "    AP_l = 0\n",
    "    for i in range(n_ep):\n",
    "        res_file = os.path.join(cwd, 'output', net, dataset + '_ep' + str(i), 'detection_results.pkl')\n",
    "        with open(res_file, 'rb') as file:\n",
    "            coco_eval_obj = pickle.load(file)\n",
    "            stats = coco_eval_obj.stats\n",
    "            AP += stats[0]\n",
    "            AP_50 += stats[1]\n",
    "            AP_75 += stats[2]\n",
    "            AP_s += stats[3]\n",
    "            AP_m += stats[4]\n",
    "            AP_l += stats[5]\n",
    "    AP /= n_ep\n",
    "    AP_50 /= n_ep\n",
    "    AP_75 /= n_ep\n",
    "    AP_s /= n_ep\n",
    "    AP_m /= n_ep\n",
    "    AP_l /= n_ep\n",
    "    print(f'AP: {AP}')\n",
    "    print(f'AP_50: {AP_50}')\n",
    "    print(f'AP_75: {AP_75}')\n",
    "    print(f'AP_s: {AP_s}')\n",
    "    print(f'AP_m: {AP_m}')\n",
    "    print(f'AP_l: {AP_l}')"
   ]
  },
  {
   "cell_type": "code",
   "execution_count": 4,
   "metadata": {},
   "outputs": [
    {
     "name": "stdout",
     "output_type": "stream",
     "text": [
      "AP: 0.2945967830610136\n",
      "AP_50: 0.5375116407766989\n",
      "AP_75: 0.2952071250503985\n",
      "AP_s: 0.08026038140221338\n",
      "AP_m: 0.2576196106433245\n",
      "AP_l: 0.37673936813489933\n"
     ]
    }
   ],
   "source": [
    "net = 'fsod'\n",
    "dataset = 'coco_set1'\n",
    "n_ep = 10\n",
    "evaluation(net, dataset, n_ep)"
   ]
  },
  {
   "cell_type": "code",
   "execution_count": 12,
   "metadata": {},
   "outputs": [
    {
     "name": "stdout",
     "output_type": "stream",
     "text": [
      "AP: 0.3462281021464237\n",
      "AP_50: 0.6059610949583015\n",
      "AP_75: 0.3544122271700483\n",
      "AP_s: 0.09624196073009045\n",
      "AP_m: 0.28912813105525614\n",
      "AP_l: 0.45133096460498157\n"
     ]
    }
   ],
   "source": [
    "net = 'share1'\n",
    "dataset = 'coco_set1'\n",
    "n_ep = 10\n",
    "evaluation(net, dataset, n_ep)"
   ]
  },
  {
   "cell_type": "code",
   "execution_count": 3,
   "metadata": {},
   "outputs": [
    {
     "name": "stdout",
     "output_type": "stream",
     "text": [
      "AP: 0.29130466738932687\n",
      "AP_50: 0.5392356199383304\n",
      "AP_75: 0.2887316278784667\n",
      "AP_s: 0.0815247409632249\n",
      "AP_m: 0.26161812724695527\n",
      "AP_l: 0.3730443571117987\n"
     ]
    }
   ],
   "source": [
    "net = 'reweight'\n",
    "dataset = 'coco_set1'\n",
    "n_ep = 10\n",
    "evaluation(net, dataset, n_ep)"
   ]
  },
  {
   "cell_type": "code",
   "execution_count": 7,
   "metadata": {},
   "outputs": [
    {
     "name": "stdout",
     "output_type": "stream",
     "text": [
      "AP: 0.2857888312500859\n",
      "AP_50: 0.5199592845979909\n",
      "AP_75: 0.28361758613608407\n",
      "AP_s: 0.07627052740280946\n",
      "AP_m: 0.2552863323102813\n",
      "AP_l: 0.3716629464770745\n"
     ]
    }
   ],
   "source": [
    "net = 'reweight'\n",
    "dataset = 'coco_set1'\n",
    "n_ep = 10\n",
    "evaluation(net, dataset, n_ep)"
   ]
  },
  {
   "cell_type": "code",
   "execution_count": 8,
   "metadata": {},
   "outputs": [
    {
     "name": "stdout",
     "output_type": "stream",
     "text": [
      "AP: 0.285007246962405\n",
      "AP_50: 0.5214314104584293\n",
      "AP_75: 0.2821261163586712\n",
      "AP_s: 0.07625862854003572\n",
      "AP_m: 0.25421515754539314\n",
      "AP_l: 0.37121762700760597\n"
     ]
    }
   ],
   "source": [
    "net = 'fsod'\n",
    "dataset = 'coco_set1'\n",
    "n_ep = 10\n",
    "evaluation(net, dataset, n_ep)"
   ]
  },
  {
   "cell_type": "code",
   "execution_count": 11,
   "metadata": {},
   "outputs": [
    {
     "name": "stdout",
     "output_type": "stream",
     "text": [
      "AP: 0.09102299016736283\n",
      "AP_50: 0.1798588684442181\n",
      "AP_75: 0.08272266260701022\n",
      "AP_s: 0.009866883712180741\n",
      "AP_m: 0.06857950207456845\n",
      "AP_l: 0.12578188879576674\n"
     ]
    }
   ],
   "source": [
    "net = 'fsod'\n",
    "dataset = 'coco_set2'\n",
    "n_ep = 10\n",
    "evaluation(net, dataset, n_ep)"
   ]
  },
  {
   "cell_type": "code",
   "execution_count": 10,
   "metadata": {},
   "outputs": [
    {
     "name": "stdout",
     "output_type": "stream",
     "text": [
      "AP: 0.09070915388880217\n",
      "AP_50: 0.1791404966286062\n",
      "AP_75: 0.08254159995205244\n",
      "AP_s: 0.00987146132680495\n",
      "AP_m: 0.06922910460007439\n",
      "AP_l: 0.1253523323933038\n"
     ]
    }
   ],
   "source": [
    "net = 'reweight'\n",
    "dataset = 'coco_set2'\n",
    "n_ep = 10\n",
    "evaluation(net, dataset, n_ep)"
   ]
  },
  {
   "cell_type": "code",
   "execution_count": 10,
   "metadata": {},
   "outputs": [
    {
     "name": "stdout",
     "output_type": "stream",
     "text": [
      "AP: 0.07795377197297024\n",
      "AP_50: 0.16222452254005554\n",
      "AP_75: 0.06789086845534019\n",
      "AP_s: 0.004062668766876687\n",
      "AP_m: 0.06025933757417869\n",
      "AP_l: 0.10567950688633468\n"
     ]
    }
   ],
   "source": [
    "net = 'fsod'\n",
    "dataset = 'coco_set3'\n",
    "n_ep = 10\n",
    "evaluation(net, dataset, n_ep)"
   ]
  },
  {
   "cell_type": "code",
   "execution_count": 11,
   "metadata": {},
   "outputs": [
    {
     "name": "stdout",
     "output_type": "stream",
     "text": [
      "AP: 0.0996253987763794\n",
      "AP_50: 0.19482913893871853\n",
      "AP_75: 0.09410354254256573\n",
      "AP_s: 0.0005676567656765675\n",
      "AP_m: 0.04372214759095257\n",
      "AP_l: 0.1457944332940772\n"
     ]
    }
   ],
   "source": [
    "net = 'double'\n",
    "dataset = 'coco_set3'\n",
    "n_ep = 10\n",
    "evaluation(net, dataset, n_ep)"
   ]
  },
  {
   "cell_type": "code",
   "execution_count": 10,
   "metadata": {},
   "outputs": [
    {
     "name": "stdout",
     "output_type": "stream",
     "text": [
      "AP: 0.29362471099576287\n",
      "AP_50: 0.5372481565462084\n",
      "AP_75: 0.2919948108448846\n",
      "AP_s: 0.06240362756263449\n",
      "AP_m: 0.258068821031166\n",
      "AP_l: 0.38695941498800174\n"
     ]
    }
   ],
   "source": [
    "net = 'fsod'\n",
    "dataset = 'coco_set1'\n",
    "n_ep = 10\n",
    "cwd = os.getcwd()\n",
    "\n",
    "AP = 0\n",
    "AP_50 = 0\n",
    "AP_75 = 0\n",
    "AP_s = 0\n",
    "AP_m = 0\n",
    "AP_l = 0\n",
    "for i in range(n_ep):\n",
    "    res_file = os.path.join(cwd, 'output', net, dataset + '_ep' + str(i), 'detection_results.pkl')\n",
    "    with open(res_file, 'rb') as file:\n",
    "        coco_eval_obj = pickle.load(file)\n",
    "        stats = coco_eval_obj.stats\n",
    "        AP += stats[0]\n",
    "        AP_50 += stats[1]\n",
    "        AP_75 += stats[2]\n",
    "        AP_s += stats[3]\n",
    "        AP_m += stats[4]\n",
    "        AP_l += stats[5]\n",
    "AP /= n_ep\n",
    "AP_50 /= n_ep\n",
    "AP_75 /= n_ep\n",
    "AP_s /= n_ep\n",
    "AP_m /= n_ep\n",
    "AP_l /= n_ep\n",
    "print(f'AP: {AP}')\n",
    "print(f'AP_50: {AP_50}')\n",
    "print(f'AP_75: {AP_75}')\n",
    "print(f'AP_s: {AP_s}')\n",
    "print(f'AP_m: {AP_m}')\n",
    "print(f'AP_l: {AP_l}')"
   ]
  },
  {
   "cell_type": "code",
   "execution_count": 5,
   "metadata": {},
   "outputs": [
    {
     "name": "stdout",
     "output_type": "stream",
     "text": [
      "AP: 0.3072728465156548\n",
      "AP_50: 0.5588725740380042\n",
      "AP_75: 0.3052879786550409\n",
      "AP_s: 0.061989036557986765\n",
      "AP_m: 0.2628684117806376\n",
      "AP_l: 0.40403468542232945\n"
     ]
    }
   ],
   "source": [
    "net = 'qkv'\n",
    "dataset = 'coco_part1'\n",
    "n_ep = 10\n",
    "cwd = os.getcwd()\n",
    "\n",
    "AP = 0\n",
    "AP_50 = 0\n",
    "AP_75 = 0\n",
    "AP_s = 0\n",
    "AP_m = 0\n",
    "AP_l = 0\n",
    "for i in range(n_ep):\n",
    "    res_file = os.path.join(cwd, 'output', net, dataset + '_ep' + str(i), 'detection_results.pkl')\n",
    "    with open(res_file, 'rb') as file:\n",
    "        coco_eval_obj = pickle.load(file)\n",
    "        stats = coco_eval_obj.stats\n",
    "        AP += stats[0]\n",
    "        AP_50 += stats[1]\n",
    "        AP_75 += stats[2]\n",
    "        AP_s += stats[3]\n",
    "        AP_m += stats[4]\n",
    "        AP_l += stats[5]\n",
    "AP /= n_ep\n",
    "AP_50 /= n_ep\n",
    "AP_75 /= n_ep\n",
    "AP_s /= n_ep\n",
    "AP_m /= n_ep\n",
    "AP_l /= n_ep\n",
    "print(f'AP: {AP}')\n",
    "print(f'AP_50: {AP_50}')\n",
    "print(f'AP_75: {AP_75}')\n",
    "print(f'AP_s: {AP_s}')\n",
    "print(f'AP_m: {AP_m}')\n",
    "print(f'AP_l: {AP_l}')"
   ]
  },
  {
   "cell_type": "code",
   "execution_count": 9,
   "metadata": {},
   "outputs": [
    {
     "name": "stdout",
     "output_type": "stream",
     "text": [
      "AP: 0.29522306355459843\n",
      "AP_50: 0.5439991805667715\n",
      "AP_75: 0.2867870264090172\n",
      "AP_s: 0.07982418864613477\n",
      "AP_m: 0.26668193298324033\n",
      "AP_l: 0.3799484004137609\n"
     ]
    }
   ],
   "source": [
    "net = 'narpn'\n",
    "dataset = 'coco_set1'\n",
    "n_ep = 10\n",
    "cwd = os.getcwd()\n",
    "\n",
    "AP = 0\n",
    "AP_50 = 0\n",
    "AP_75 = 0\n",
    "AP_s = 0\n",
    "AP_m = 0\n",
    "AP_l = 0\n",
    "for i in range(n_ep):\n",
    "    res_file = os.path.join(cwd, 'output', net, dataset + '_ep' + str(i), 'detection_results.pkl')\n",
    "    with open(res_file, 'rb') as file:\n",
    "        coco_eval_obj = pickle.load(file)\n",
    "        stats = coco_eval_obj.stats\n",
    "        AP += stats[0]\n",
    "        AP_50 += stats[1]\n",
    "        AP_75 += stats[2]\n",
    "        AP_s += stats[3]\n",
    "        AP_m += stats[4]\n",
    "        AP_l += stats[5]\n",
    "AP /= n_ep\n",
    "AP_50 /= n_ep\n",
    "AP_75 /= n_ep\n",
    "AP_s /= n_ep\n",
    "AP_m /= n_ep\n",
    "AP_l /= n_ep\n",
    "print(f'AP: {AP}')\n",
    "print(f'AP_50: {AP_50}')\n",
    "print(f'AP_75: {AP_75}')\n",
    "print(f'AP_s: {AP_s}')\n",
    "print(f'AP_m: {AP_m}')\n",
    "print(f'AP_l: {AP_l}')"
   ]
  },
  {
   "cell_type": "code",
   "execution_count": null,
   "metadata": {},
   "outputs": [],
   "source": []
  },
  {
   "cell_type": "code",
   "execution_count": 20,
   "metadata": {},
   "outputs": [
    {
     "name": "stdout",
     "output_type": "stream",
     "text": [
      " Average Precision  (AP) @[ IoU=0.50:0.95 | area=   all | maxDets=100 ] = 0.173\n",
      " Average Precision  (AP) @[ IoU=0.50      | area=   all | maxDets=100 ] = 0.345\n",
      " Average Precision  (AP) @[ IoU=0.75      | area=   all | maxDets=100 ] = 0.161\n",
      " Average Precision  (AP) @[ IoU=0.50:0.95 | area= small | maxDets=100 ] = 0.018\n",
      " Average Precision  (AP) @[ IoU=0.50:0.95 | area=medium | maxDets=100 ] = 0.158\n",
      " Average Precision  (AP) @[ IoU=0.50:0.95 | area= large | maxDets=100 ] = 0.238\n",
      " Average Recall     (AR) @[ IoU=0.50:0.95 | area=   all | maxDets=  1 ] = 0.162\n",
      " Average Recall     (AR) @[ IoU=0.50:0.95 | area=   all | maxDets= 10 ] = 0.284\n",
      " Average Recall     (AR) @[ IoU=0.50:0.95 | area=   all | maxDets=100 ] = 0.302\n",
      " Average Recall     (AR) @[ IoU=0.50:0.95 | area= small | maxDets=100 ] = 0.050\n",
      " Average Recall     (AR) @[ IoU=0.50:0.95 | area=medium | maxDets=100 ] = 0.266\n",
      " Average Recall     (AR) @[ IoU=0.50:0.95 | area= large | maxDets=100 ] = 0.399\n"
     ]
    }
   ],
   "source": [
    "coco_eval_obj.summarize()"
   ]
  },
  {
   "cell_type": "code",
   "execution_count": null,
   "metadata": {},
   "outputs": [],
   "source": []
  }
 ],
 "metadata": {
  "kernelspec": {
   "display_name": "rcnn36",
   "language": "python",
   "name": "rcnn36"
  },
  "language_info": {
   "codemirror_mode": {
    "name": "ipython",
    "version": 3
   },
   "file_extension": ".py",
   "mimetype": "text/x-python",
   "name": "python",
   "nbconvert_exporter": "python",
   "pygments_lexer": "ipython3",
   "version": "3.7.3"
  }
 },
 "nbformat": 4,
 "nbformat_minor": 2
}
