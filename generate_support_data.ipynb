{
 "cells": [
  {
   "cell_type": "code",
   "execution_count": 1,
   "metadata": {},
   "outputs": [],
   "source": [
    "import json\n",
    "import os\n",
    "import re\n",
    "import fnmatch\n",
    "from pathlib import Path\n",
    "import numpy as np\n",
    "import cv2\n",
    "import copy\n",
    "import random\n",
    "import xml.etree.ElementTree as ET\n",
    "from matplotlib import pyplot as plt\n",
    "from tqdm import tqdm_notebook as tqdm\n",
    "from pycocotools.coco import COCO"
   ]
  },
  {
   "cell_type": "code",
   "execution_count": 2,
   "metadata": {},
   "outputs": [],
   "source": [
    "cls_ind_in_coco_set1 = [1, 2, 3, 4, 5, 6, 7, 9, 16, 17, 18, 19, 20, 21, 44, 62, 63, 64, 67, 72]\n",
    "cls_ind_in_coco_set2 = [85, 43, 78, 87, 47, 11, 35, 53, 52, 46, 38, 51, 41, 58, 32, 82, 24, 37, 73, 22]\n",
    "cls_ind_in_coco_set3 = [60, 65, 13, 48, 79, 77, 61, 54, 76, 34, 50, 74, 25, 86, 15, 31, 80, 14, 84, 28]\n",
    "cls_ind_in_coco_set4 = [8, 10, 23, 27, 33, 36, 39, 40, 42, 49, 55, 56, 57, 59, 70, 75, 81, 88, 89, 90]"
   ]
  },
  {
   "cell_type": "code",
   "execution_count": 3,
   "metadata": {},
   "outputs": [
    {
     "data": {
      "application/vnd.jupyter.widget-view+json": {
       "model_id": "bcc4c21d26194ac2bf3405244ff95e1a",
       "version_major": 2,
       "version_minor": 0
      },
      "text/plain": [
       "HBox(children=(IntProgress(value=1, bar_style='info', max=1), HTML(value='')))"
      ]
     },
     "metadata": {},
     "output_type": "display_data"
    },
    {
     "name": "stdout",
     "output_type": "stream",
     "text": [
      "\n"
     ]
    }
   ],
   "source": [
    "cwd = os.getcwd()\n",
    "coco_json_path = cwd + '/data/coco/annotations/instances_val2014.json'\n",
    "with open(coco_json_path, 'r') as f:\n",
    "    data = json.load(f)\n",
    "\n",
    "im_summary = {}\n",
    "for i, im_d in tqdm(enumerate(data['images'])):\n",
    "    im_summary[str(im_d['id'])] = {}\n",
    "    im_summary[str(im_d['id'])]['im_dict'] = im_d\n",
    "    im_summary[str(im_d['id'])]['annotations'] = []\n",
    "    im_summary[str(im_d['id'])]['categories'] = []\n",
    "for j, a_d in enumerate(data['annotations']):\n",
    "    if a_d['iscrowd'] == 0:  # only keep non-crowd annotations\n",
    "        im_id = a_d['image_id']\n",
    "        cat_id = a_d['category_id']\n",
    "        im_summary[str(im_id)]['annotations'].append(a_d)\n",
    "        im_summary[str(im_id)]['categories'].append(cat_id)\n",
    "for _key in im_summary.keys():\n",
    "    im_summary[_key]['categories'] = list(set(im_summary[_key]['categories']))"
   ]
  },
  {
   "cell_type": "markdown",
   "metadata": {},
   "source": [
    "## Pure"
   ]
  },
  {
   "cell_type": "markdown",
   "metadata": {},
   "source": [
    "### set 1"
   ]
  },
  {
   "cell_type": "code",
   "execution_count": 4,
   "metadata": {},
   "outputs": [],
   "source": [
    "novel_cls_inds = cls_ind_in_coco_set1\n",
    "output_set = 'set1'\n",
    "\n",
    "new_categories = []\n",
    "for cat in data['categories']:\n",
    "    if cat['id'] in novel_cls_inds:\n",
    "        new_categories.append(cat)\n",
    "MIN_SIZE = 64\n",
    "cat_and_their_im_id = []\n",
    "for i, c_d in enumerate(new_categories):\n",
    "    cat_dict = {}\n",
    "    cat_id = c_d['id']\n",
    "    cat_name = c_d['name']\n",
    "    cat_dict['cat_id'] = cat_id\n",
    "    cat_dict['cat_name'] = cat_name\n",
    "    cat_dict['im_ids'] = []\n",
    "    for _key in im_summary.keys():  # for every im\n",
    "        im_dict = im_summary[_key]\n",
    "        if cat_id in im_dict['categories']:  # if this im has this class\n",
    "            valid_an = []\n",
    "            for an in im_dict['annotations']:  # for annos of this im\n",
    "                if an['category_id'] == cat_id:\n",
    "                    if an['bbox'][2] < MIN_SIZE or an['bbox'][3] < MIN_SIZE:\n",
    "                        continue\n",
    "                    else:\n",
    "                        valid_an.append(an)\n",
    "            if len(valid_an) > 0:  # only keep those id have more than one valid box of this class\n",
    "                cat_dict['im_ids'].append(_key)           \n",
    "    cat_and_their_im_id.append(cat_dict)\n",
    "cat_and_their_im_id.sort(key=lambda s: len(s['im_ids']))"
   ]
  },
  {
   "cell_type": "code",
   "execution_count": 14,
   "metadata": {},
   "outputs": [
    {
     "data": {
      "application/vnd.jupyter.widget-view+json": {
       "model_id": "5c242335b41d4088b884bf03e396da0d",
       "version_major": 2,
       "version_minor": 0
      },
      "text/plain": [
       "HBox(children=(IntProgress(value=0, max=20), HTML(value='')))"
      ]
     },
     "metadata": {},
     "output_type": "display_data"
    },
    {
     "name": "stdout",
     "output_type": "stream",
     "text": [
      "\n"
     ]
    }
   ],
   "source": [
    "cwd = os.getcwd()\n",
    "dump_dir = cwd + '/data/supports/'\n",
    "if not os.path.exists(dump_dir):\n",
    "    os.makedirs(dump_dir)\n",
    "N_SHOT = 30\n",
    "# MIN_SIZE = 64\n",
    "MIN_SIZE = 128\n",
    "RATIO = 2.\n",
    "\n",
    "for cat_dict in tqdm(cat_and_their_im_id):\n",
    "    new_dict = {}\n",
    "    cat_id = cat_dict['cat_id']\n",
    "    cat_name = cat_dict['cat_name']\n",
    "    ids = cat_dict['im_ids']\n",
    "    random.seed(0)\n",
    "    random.shuffle(ids)\n",
    "    shot_cnt = 0\n",
    "    for _id in ids:\n",
    "        valid_anns = []\n",
    "        for an in im_summary[_id]['annotations']:\n",
    "            if an['category_id'] == cat_id:\n",
    "                box = an['bbox']\n",
    "                if box[2] < MIN_SIZE or box[3] < MIN_SIZE:\n",
    "                    continue\n",
    "                if box[2]/box[3] > RATIO or box[3]/box[2] > RATIO:\n",
    "                    continue\n",
    "                valid_anns.append(an)\n",
    "        if len(valid_anns) != 0:\n",
    "            im_dict = im_summary[_id]['im_dict']\n",
    "            im_path = cwd + '/data/coco/images/val2014/' + im_dict['file_name']\n",
    "            im = cv2.imread(im_path)\n",
    "            \n",
    "            random.seed(0)\n",
    "            chosen_ann = random.sample(valid_anns, k=1)[0]\n",
    "            box = [int(i) for i in chosen_ann['bbox']]\n",
    "            im_cropped = im[box[1]:box[1]+box[3]+1, box[0]:box[0]+box[2]+1, :]\n",
    "            \n",
    "            file_name = str(cat_id) + '_' + _id + '.jpg'\n",
    "            output_dir = os.path.join(dump_dir, output_set, cat_name)\n",
    "            output_path = os.path.join(output_dir, file_name)\n",
    "            if not os.path.exists(output_dir):\n",
    "                os.makedirs(output_dir)\n",
    "            cv2.imwrite(output_path, im_cropped)\n",
    "            shot_cnt += 1\n",
    "            if shot_cnt == N_SHOT:\n",
    "                break"
   ]
  },
  {
   "cell_type": "markdown",
   "metadata": {},
   "source": [
    "### set 2"
   ]
  },
  {
   "cell_type": "code",
   "execution_count": 8,
   "metadata": {},
   "outputs": [],
   "source": [
    "novel_cls_inds = cls_ind_in_coco_set2\n",
    "output_set = 'set2'\n",
    "\n",
    "new_categories = []\n",
    "for cat in data['categories']:\n",
    "    if cat['id'] in novel_cls_inds:\n",
    "        new_categories.append(cat)\n",
    "MIN_SIZE = 64\n",
    "cat_and_their_im_id = []\n",
    "for i, c_d in enumerate(new_categories):\n",
    "    cat_dict = {}\n",
    "    cat_id = c_d['id']\n",
    "    cat_name = c_d['name']\n",
    "    cat_dict['cat_id'] = cat_id\n",
    "    cat_dict['cat_name'] = cat_name\n",
    "    cat_dict['im_ids'] = []\n",
    "    for _key in im_summary.keys():  # for every im\n",
    "        im_dict = im_summary[_key]\n",
    "        if cat_id in im_dict['categories']:  # if this im has this class\n",
    "            valid_an = []\n",
    "            for an in im_dict['annotations']:  # for annos of this im\n",
    "                if an['category_id'] == cat_id:\n",
    "                    if an['bbox'][2] < MIN_SIZE or an['bbox'][3] < MIN_SIZE:\n",
    "                        continue\n",
    "                    else:\n",
    "                        valid_an.append(an)\n",
    "            if len(valid_an) > 0:  # only keep those id have more than one valid box of this class\n",
    "                cat_dict['im_ids'].append(_key)           \n",
    "    cat_and_their_im_id.append(cat_dict)\n",
    "cat_and_their_im_id.sort(key=lambda s: len(s['im_ids']))"
   ]
  },
  {
   "cell_type": "code",
   "execution_count": 10,
   "metadata": {},
   "outputs": [
    {
     "data": {
      "application/vnd.jupyter.widget-view+json": {
       "model_id": "0d33669dafc44e928dbf24e062c98ba7",
       "version_major": 2,
       "version_minor": 0
      },
      "text/plain": [
       "HBox(children=(IntProgress(value=0, max=20), HTML(value='')))"
      ]
     },
     "metadata": {},
     "output_type": "display_data"
    },
    {
     "name": "stdout",
     "output_type": "stream",
     "text": [
      "\n"
     ]
    }
   ],
   "source": [
    "cwd = os.getcwd()\n",
    "dump_dir = cwd + '/data/supports/'\n",
    "if not os.path.exists(dump_dir):\n",
    "    os.makedirs(dump_dir)\n",
    "N_SHOT = 30\n",
    "# MIN_SIZE = 64\n",
    "MIN_SIZE = 128\n",
    "RATIO = 2.\n",
    "\n",
    "for cat_dict in tqdm(cat_and_their_im_id):\n",
    "    new_dict = {}\n",
    "    cat_id = cat_dict['cat_id']\n",
    "    cat_name = cat_dict['cat_name']\n",
    "    ids = cat_dict['im_ids']\n",
    "    random.seed(0)\n",
    "    random.shuffle(ids)\n",
    "    shot_cnt = 0\n",
    "    for _id in ids:\n",
    "        valid_anns = []\n",
    "        for an in im_summary[_id]['annotations']:\n",
    "            if an['category_id'] == cat_id:\n",
    "                box = an['bbox']\n",
    "                if box[2] < MIN_SIZE or box[3] < MIN_SIZE:\n",
    "                    continue\n",
    "                if box[2]/box[3] > RATIO or box[3]/box[2] > RATIO:\n",
    "                    continue\n",
    "                valid_anns.append(an)\n",
    "        if len(valid_anns) != 0:\n",
    "            im_dict = im_summary[_id]['im_dict']\n",
    "            im_path = cwd + '/data/coco/images/val2014/' + im_dict['file_name']\n",
    "            im = cv2.imread(im_path)\n",
    "            \n",
    "            random.seed(0)\n",
    "            chosen_ann = random.sample(valid_anns, k=1)[0]\n",
    "            box = [int(i) for i in chosen_ann['bbox']]\n",
    "            im_cropped = im[box[1]:box[1]+box[3]+1, box[0]:box[0]+box[2]+1, :]\n",
    "            \n",
    "            file_name = str(cat_id) + '_' + _id + '.jpg'\n",
    "            output_dir = os.path.join(dump_dir, output_set, cat_name)\n",
    "            output_path = os.path.join(output_dir, file_name)\n",
    "            if not os.path.exists(output_dir):\n",
    "                os.makedirs(output_dir)\n",
    "            cv2.imwrite(output_path, im_cropped)\n",
    "            shot_cnt += 1\n",
    "            if shot_cnt == N_SHOT:\n",
    "                break\n"
   ]
  },
  {
   "cell_type": "markdown",
   "metadata": {},
   "source": [
    "### set 3"
   ]
  },
  {
   "cell_type": "code",
   "execution_count": 11,
   "metadata": {},
   "outputs": [],
   "source": [
    "novel_cls_inds = cls_ind_in_coco_set3\n",
    "output_set = 'set3'\n",
    "\n",
    "new_categories = []\n",
    "for cat in data['categories']:\n",
    "    if cat['id'] in novel_cls_inds:\n",
    "        new_categories.append(cat)\n",
    "MIN_SIZE = 64\n",
    "cat_and_their_im_id = []\n",
    "for i, c_d in enumerate(new_categories):\n",
    "    cat_dict = {}\n",
    "    cat_id = c_d['id']\n",
    "    cat_name = c_d['name']\n",
    "    cat_dict['cat_id'] = cat_id\n",
    "    cat_dict['cat_name'] = cat_name\n",
    "    cat_dict['im_ids'] = []\n",
    "    for _key in im_summary.keys():  # for every im\n",
    "        im_dict = im_summary[_key]\n",
    "        if cat_id in im_dict['categories']:  # if this im has this class\n",
    "            valid_an = []\n",
    "            for an in im_dict['annotations']:  # for annos of this im\n",
    "                if an['category_id'] == cat_id:\n",
    "                    if an['bbox'][2] < MIN_SIZE or an['bbox'][3] < MIN_SIZE:\n",
    "                        continue\n",
    "                    else:\n",
    "                        valid_an.append(an)\n",
    "            if len(valid_an) > 0:  # only keep those id have more than one valid box of this class\n",
    "                cat_dict['im_ids'].append(_key)           \n",
    "    cat_and_their_im_id.append(cat_dict)\n",
    "cat_and_their_im_id.sort(key=lambda s: len(s['im_ids']))"
   ]
  },
  {
   "cell_type": "code",
   "execution_count": 12,
   "metadata": {},
   "outputs": [
    {
     "data": {
      "application/vnd.jupyter.widget-view+json": {
       "model_id": "9c8f44bf1c584898803f364b89f2fcaa",
       "version_major": 2,
       "version_minor": 0
      },
      "text/plain": [
       "HBox(children=(IntProgress(value=0, max=20), HTML(value='')))"
      ]
     },
     "metadata": {},
     "output_type": "display_data"
    },
    {
     "name": "stdout",
     "output_type": "stream",
     "text": [
      "\n"
     ]
    }
   ],
   "source": [
    "cwd = os.getcwd()\n",
    "dump_dir = cwd + '/data/supports/'\n",
    "if not os.path.exists(dump_dir):\n",
    "    os.makedirs(dump_dir)\n",
    "N_SHOT = 30\n",
    "# MIN_SIZE = 64\n",
    "MIN_SIZE = 128\n",
    "RATIO = 2.\n",
    "\n",
    "for cat_dict in tqdm(cat_and_their_im_id):\n",
    "    new_dict = {}\n",
    "    cat_id = cat_dict['cat_id']\n",
    "    cat_name = cat_dict['cat_name']\n",
    "    ids = cat_dict['im_ids']\n",
    "    random.seed(0)\n",
    "    random.shuffle(ids)\n",
    "    shot_cnt = 0\n",
    "    for _id in ids:\n",
    "        valid_anns = []\n",
    "        for an in im_summary[_id]['annotations']:\n",
    "            if an['category_id'] == cat_id:\n",
    "                box = an['bbox']\n",
    "                if box[2] < MIN_SIZE or box[3] < MIN_SIZE:\n",
    "                    continue\n",
    "                if box[2]/box[3] > RATIO or box[3]/box[2] > RATIO:\n",
    "                    continue\n",
    "                valid_anns.append(an)\n",
    "        if len(valid_anns) != 0:\n",
    "            im_dict = im_summary[_id]['im_dict']\n",
    "            im_path = cwd + '/data/coco/images/val2014/' + im_dict['file_name']\n",
    "            im = cv2.imread(im_path)\n",
    "            \n",
    "            random.seed(0)\n",
    "            chosen_ann = random.sample(valid_anns, k=1)[0]\n",
    "            box = [int(i) for i in chosen_ann['bbox']]\n",
    "            im_cropped = im[box[1]:box[1]+box[3]+1, box[0]:box[0]+box[2]+1, :]\n",
    "            \n",
    "            file_name = str(cat_id) + '_' + _id + '.jpg'\n",
    "            output_dir = os.path.join(dump_dir, output_set, cat_name)\n",
    "            output_path = os.path.join(output_dir, file_name)\n",
    "            if not os.path.exists(output_dir):\n",
    "                os.makedirs(output_dir)\n",
    "            cv2.imwrite(output_path, im_cropped)\n",
    "            shot_cnt += 1\n",
    "            if shot_cnt == N_SHOT:\n",
    "                break\n"
   ]
  },
  {
   "cell_type": "markdown",
   "metadata": {},
   "source": [
    "### set 4"
   ]
  },
  {
   "cell_type": "code",
   "execution_count": 15,
   "metadata": {},
   "outputs": [],
   "source": [
    "novel_cls_inds = cls_ind_in_coco_set4\n",
    "output_set = 'set4'\n",
    "\n",
    "new_categories = []\n",
    "for cat in data['categories']:\n",
    "    if cat['id'] in novel_cls_inds:\n",
    "        new_categories.append(cat)\n",
    "MIN_SIZE = 64\n",
    "cat_and_their_im_id = []\n",
    "for i, c_d in enumerate(new_categories):\n",
    "    cat_dict = {}\n",
    "    cat_id = c_d['id']\n",
    "    cat_name = c_d['name']\n",
    "    cat_dict['cat_id'] = cat_id\n",
    "    cat_dict['cat_name'] = cat_name\n",
    "    cat_dict['im_ids'] = []\n",
    "    for _key in im_summary.keys():  # for every im\n",
    "        im_dict = im_summary[_key]\n",
    "        if cat_id in im_dict['categories']:  # if this im has this class\n",
    "            valid_an = []\n",
    "            for an in im_dict['annotations']:  # for annos of this im\n",
    "                if an['category_id'] == cat_id:\n",
    "                    if an['bbox'][2] < MIN_SIZE or an['bbox'][3] < MIN_SIZE:\n",
    "                        continue\n",
    "                    else:\n",
    "                        valid_an.append(an)\n",
    "            if len(valid_an) > 0:  # only keep those id have more than one valid box of this class\n",
    "                cat_dict['im_ids'].append(_key)           \n",
    "    cat_and_their_im_id.append(cat_dict)\n",
    "cat_and_their_im_id.sort(key=lambda s: len(s['im_ids']))"
   ]
  },
  {
   "cell_type": "code",
   "execution_count": 16,
   "metadata": {},
   "outputs": [
    {
     "data": {
      "application/vnd.jupyter.widget-view+json": {
       "model_id": "2acb692cb06e4ddf8f3294d23a06d064",
       "version_major": 2,
       "version_minor": 0
      },
      "text/plain": [
       "HBox(children=(IntProgress(value=0, max=20), HTML(value='')))"
      ]
     },
     "metadata": {},
     "output_type": "display_data"
    },
    {
     "name": "stdout",
     "output_type": "stream",
     "text": [
      "\n"
     ]
    }
   ],
   "source": [
    "cwd = os.getcwd()\n",
    "dump_dir = cwd + '/data/supports/'\n",
    "if not os.path.exists(dump_dir):\n",
    "    os.makedirs(dump_dir)\n",
    "N_SHOT = 30\n",
    "# MIN_SIZE = 64\n",
    "MIN_SIZE = 128\n",
    "RATIO = 2.\n",
    "\n",
    "for cat_dict in tqdm(cat_and_their_im_id):\n",
    "    new_dict = {}\n",
    "    cat_id = cat_dict['cat_id']\n",
    "    cat_name = cat_dict['cat_name']\n",
    "    ids = cat_dict['im_ids']\n",
    "    random.seed(0)\n",
    "    random.shuffle(ids)\n",
    "    shot_cnt = 0\n",
    "    for _id in ids:\n",
    "        valid_anns = []\n",
    "        for an in im_summary[_id]['annotations']:\n",
    "            if an['category_id'] == cat_id:\n",
    "                box = an['bbox']\n",
    "                if box[2] < MIN_SIZE or box[3] < MIN_SIZE:\n",
    "                    continue\n",
    "                if box[2]/box[3] > RATIO or box[3]/box[2] > RATIO:\n",
    "                    continue\n",
    "                valid_anns.append(an)\n",
    "        if len(valid_anns) != 0:\n",
    "            im_dict = im_summary[_id]['im_dict']\n",
    "            im_path = cwd + '/data/coco/images/val2014/' + im_dict['file_name']\n",
    "            im = cv2.imread(im_path)\n",
    "            \n",
    "            random.seed(0)\n",
    "            chosen_ann = random.sample(valid_anns, k=1)[0]\n",
    "            box = [int(i) for i in chosen_ann['bbox']]\n",
    "            im_cropped = im[box[1]:box[1]+box[3]+1, box[0]:box[0]+box[2]+1, :]\n",
    "            \n",
    "            file_name = str(cat_id) + '_' + _id + '.jpg'\n",
    "            output_dir = os.path.join(dump_dir, output_set, cat_name)\n",
    "            output_path = os.path.join(output_dir, file_name)\n",
    "            if not os.path.exists(output_dir):\n",
    "                os.makedirs(output_dir)\n",
    "            cv2.imwrite(output_path, im_cropped)\n",
    "            shot_cnt += 1\n",
    "            if shot_cnt == N_SHOT:\n",
    "                break\n"
   ]
  },
  {
   "cell_type": "markdown",
   "metadata": {},
   "source": [
    "## not pure"
   ]
  },
  {
   "cell_type": "markdown",
   "metadata": {},
   "source": [
    "### set 1"
   ]
  },
  {
   "cell_type": "code",
   "execution_count": 5,
   "metadata": {},
   "outputs": [],
   "source": [
    "novel_cls_inds = cls_ind_in_coco_set1\n",
    "output_set = 'set1_random'\n",
    "\n",
    "new_categories = []\n",
    "for cat in data['categories']:\n",
    "    if cat['id'] in novel_cls_inds:\n",
    "        new_categories.append(cat)\n",
    "MIN_SIZE = 64\n",
    "cat_and_their_im_id = []\n",
    "for i, c_d in enumerate(new_categories):\n",
    "    cat_dict = {}\n",
    "    cat_id = c_d['id']\n",
    "    cat_name = c_d['name']\n",
    "    cat_dict['cat_id'] = cat_id\n",
    "    cat_dict['cat_name'] = cat_name\n",
    "    cat_dict['im_ids'] = []\n",
    "    for _key in im_summary.keys():  # for every im\n",
    "        im_dict = im_summary[_key]\n",
    "        if cat_id in im_dict['categories']:  # if this im has this class\n",
    "            valid_an = []\n",
    "            for an in im_dict['annotations']:  # for annos of this im\n",
    "                if an['category_id'] == cat_id:\n",
    "                    if an['bbox'][2] < MIN_SIZE or an['bbox'][3] < MIN_SIZE:\n",
    "                        continue\n",
    "                    else:\n",
    "                        valid_an.append(an)\n",
    "            if len(valid_an) > 0:  # only keep those id have more than one valid box of this class\n",
    "                cat_dict['im_ids'].append(_key)           \n",
    "    cat_and_their_im_id.append(cat_dict)\n",
    "cat_and_their_im_id.sort(key=lambda s: len(s['im_ids']))"
   ]
  },
  {
   "cell_type": "code",
   "execution_count": 6,
   "metadata": {},
   "outputs": [
    {
     "data": {
      "application/vnd.jupyter.widget-view+json": {
       "model_id": "8e2262d54dfd40cb8f8c804e35c84727",
       "version_major": 2,
       "version_minor": 0
      },
      "text/plain": [
       "HBox(children=(IntProgress(value=0, max=20), HTML(value='')))"
      ]
     },
     "metadata": {},
     "output_type": "display_data"
    },
    {
     "name": "stdout",
     "output_type": "stream",
     "text": [
      "\n"
     ]
    }
   ],
   "source": [
    "cwd = os.getcwd()\n",
    "dump_dir = cwd + '/data/supports/'\n",
    "N_SHOT = 15\n",
    "MIN_SIZE = 64\n",
    "RATIO = 2.\n",
    "\n",
    "for cat_dict in tqdm(cat_and_their_im_id):\n",
    "    new_dict = {}\n",
    "    cat_id = cat_dict['cat_id']\n",
    "    cat_name = cat_dict['cat_name']\n",
    "    ids = cat_dict['im_ids']\n",
    "    random.seed(0)\n",
    "    random.shuffle(ids)\n",
    "    shot_cnt = 0\n",
    "    for _id in ids:\n",
    "        valid_anns = []\n",
    "        for an in im_summary[_id]['annotations']:\n",
    "            if an['category_id'] == cat_id:\n",
    "                box = an['bbox']\n",
    "                if box[2] < MIN_SIZE or box[3] < MIN_SIZE:\n",
    "                    continue\n",
    "                if box[2]/box[3] > RATIO or box[3]/box[2] > RATIO:\n",
    "                    continue\n",
    "                valid_anns.append(an)\n",
    "        if len(valid_anns) != 0:\n",
    "            im_dict = im_summary[_id]['im_dict']\n",
    "            im_path = cwd + '/data/coco/images/val2014/' + im_dict['file_name']\n",
    "            im = cv2.imread(im_path)\n",
    "            \n",
    "            random.seed(0)\n",
    "            chosen_ann = random.sample(valid_anns, k=1)[0]\n",
    "            box = [int(i) for i in chosen_ann['bbox']]\n",
    "            im_cropped = im[box[1]:box[1]+box[3]+1, box[0]:box[0]+box[2]+1, :]\n",
    "            \n",
    "            file_name = str(cat_id) + '_' + _id + '.jpg'\n",
    "            output_dir = os.path.join(dump_dir, output_set, cat_name)\n",
    "            output_path = os.path.join(output_dir, file_name)\n",
    "            if not os.path.exists(output_dir):\n",
    "                os.makedirs(output_dir)\n",
    "            cv2.imwrite(output_path, im_cropped)\n",
    "            shot_cnt += 1\n",
    "            if shot_cnt == N_SHOT:\n",
    "                break"
   ]
  },
  {
   "cell_type": "code",
   "execution_count": 7,
   "metadata": {},
   "outputs": [],
   "source": [
    "novel_cls_inds = cls_ind_in_coco_set2\n",
    "output_set = 'set2_random'\n",
    "\n",
    "new_categories = []\n",
    "for cat in data['categories']:\n",
    "    if cat['id'] in novel_cls_inds:\n",
    "        new_categories.append(cat)\n",
    "MIN_SIZE = 64\n",
    "cat_and_their_im_id = []\n",
    "for i, c_d in enumerate(new_categories):\n",
    "    cat_dict = {}\n",
    "    cat_id = c_d['id']\n",
    "    cat_name = c_d['name']\n",
    "    cat_dict['cat_id'] = cat_id\n",
    "    cat_dict['cat_name'] = cat_name\n",
    "    cat_dict['im_ids'] = []\n",
    "    for _key in im_summary.keys():  # for every im\n",
    "        im_dict = im_summary[_key]\n",
    "        if cat_id in im_dict['categories']:  # if this im has this class\n",
    "            valid_an = []\n",
    "            for an in im_dict['annotations']:  # for annos of this im\n",
    "                if an['category_id'] == cat_id:\n",
    "                    if an['bbox'][2] < MIN_SIZE or an['bbox'][3] < MIN_SIZE:\n",
    "                        continue\n",
    "                    else:\n",
    "                        valid_an.append(an)\n",
    "            if len(valid_an) > 0:  # only keep those id have more than one valid box of this class\n",
    "                cat_dict['im_ids'].append(_key)           \n",
    "    cat_and_their_im_id.append(cat_dict)\n",
    "cat_and_their_im_id.sort(key=lambda s: len(s['im_ids']))"
   ]
  },
  {
   "cell_type": "code",
   "execution_count": 8,
   "metadata": {},
   "outputs": [
    {
     "data": {
      "application/vnd.jupyter.widget-view+json": {
       "model_id": "e917b148ff52407a83419f5bc0b5ee3d",
       "version_major": 2,
       "version_minor": 0
      },
      "text/plain": [
       "HBox(children=(IntProgress(value=0, max=20), HTML(value='')))"
      ]
     },
     "metadata": {},
     "output_type": "display_data"
    },
    {
     "name": "stdout",
     "output_type": "stream",
     "text": [
      "\n"
     ]
    }
   ],
   "source": [
    "cwd = os.getcwd()\n",
    "dump_dir = cwd + '/data/supports/'\n",
    "N_SHOT = 15\n",
    "MIN_SIZE = 64\n",
    "RATIO = 2.\n",
    "\n",
    "for cat_dict in tqdm(cat_and_their_im_id):\n",
    "    new_dict = {}\n",
    "    cat_id = cat_dict['cat_id']\n",
    "    cat_name = cat_dict['cat_name']\n",
    "    ids = cat_dict['im_ids']\n",
    "    random.seed(0)\n",
    "    random.shuffle(ids)\n",
    "    shot_cnt = 0\n",
    "    for _id in ids:\n",
    "        valid_anns = []\n",
    "        for an in im_summary[_id]['annotations']:\n",
    "            if an['category_id'] == cat_id:\n",
    "                box = an['bbox']\n",
    "                if box[2] < MIN_SIZE or box[3] < MIN_SIZE:\n",
    "                    continue\n",
    "                if box[2]/box[3] > RATIO or box[3]/box[2] > RATIO:\n",
    "                    continue\n",
    "                valid_anns.append(an)\n",
    "        if len(valid_anns) != 0:\n",
    "            im_dict = im_summary[_id]['im_dict']\n",
    "            im_path = cwd + '/data/coco/images/val2014/' + im_dict['file_name']\n",
    "            im = cv2.imread(im_path)\n",
    "            \n",
    "            random.seed(0)\n",
    "            chosen_ann = random.sample(valid_anns, k=1)[0]\n",
    "            box = [int(i) for i in chosen_ann['bbox']]\n",
    "            im_cropped = im[box[1]:box[1]+box[3]+1, box[0]:box[0]+box[2]+1, :]\n",
    "            \n",
    "            file_name = str(cat_id) + '_' + _id + '.jpg'\n",
    "            output_dir = os.path.join(dump_dir, output_set, cat_name)\n",
    "            output_path = os.path.join(output_dir, file_name)\n",
    "            if not os.path.exists(output_dir):\n",
    "                os.makedirs(output_dir)\n",
    "            cv2.imwrite(output_path, im_cropped)\n",
    "            shot_cnt += 1\n",
    "            if shot_cnt == N_SHOT:\n",
    "                break"
   ]
  },
  {
   "cell_type": "code",
   "execution_count": 9,
   "metadata": {},
   "outputs": [],
   "source": [
    "novel_cls_inds = cls_ind_in_coco_set3\n",
    "output_set = 'set3_random'\n",
    "\n",
    "new_categories = []\n",
    "for cat in data['categories']:\n",
    "    if cat['id'] in novel_cls_inds:\n",
    "        new_categories.append(cat)\n",
    "MIN_SIZE = 64\n",
    "cat_and_their_im_id = []\n",
    "for i, c_d in enumerate(new_categories):\n",
    "    cat_dict = {}\n",
    "    cat_id = c_d['id']\n",
    "    cat_name = c_d['name']\n",
    "    cat_dict['cat_id'] = cat_id\n",
    "    cat_dict['cat_name'] = cat_name\n",
    "    cat_dict['im_ids'] = []\n",
    "    for _key in im_summary.keys():  # for every im\n",
    "        im_dict = im_summary[_key]\n",
    "        if cat_id in im_dict['categories']:  # if this im has this class\n",
    "            valid_an = []\n",
    "            for an in im_dict['annotations']:  # for annos of this im\n",
    "                if an['category_id'] == cat_id:\n",
    "                    if an['bbox'][2] < MIN_SIZE or an['bbox'][3] < MIN_SIZE:\n",
    "                        continue\n",
    "                    else:\n",
    "                        valid_an.append(an)\n",
    "            if len(valid_an) > 0:  # only keep those id have more than one valid box of this class\n",
    "                cat_dict['im_ids'].append(_key)           \n",
    "    cat_and_their_im_id.append(cat_dict)\n",
    "cat_and_their_im_id.sort(key=lambda s: len(s['im_ids']))"
   ]
  },
  {
   "cell_type": "code",
   "execution_count": 10,
   "metadata": {},
   "outputs": [
    {
     "data": {
      "application/vnd.jupyter.widget-view+json": {
       "model_id": "1372f6dad64947e599c8839023f3c52c",
       "version_major": 2,
       "version_minor": 0
      },
      "text/plain": [
       "HBox(children=(IntProgress(value=0, max=20), HTML(value='')))"
      ]
     },
     "metadata": {},
     "output_type": "display_data"
    },
    {
     "name": "stdout",
     "output_type": "stream",
     "text": [
      "\n"
     ]
    }
   ],
   "source": [
    "cwd = os.getcwd()\n",
    "dump_dir = cwd + '/data/supports/'\n",
    "N_SHOT = 15\n",
    "MIN_SIZE = 64\n",
    "RATIO = 2.\n",
    "\n",
    "for cat_dict in tqdm(cat_and_their_im_id):\n",
    "    new_dict = {}\n",
    "    cat_id = cat_dict['cat_id']\n",
    "    cat_name = cat_dict['cat_name']\n",
    "    ids = cat_dict['im_ids']\n",
    "    random.seed(0)\n",
    "    random.shuffle(ids)\n",
    "    shot_cnt = 0\n",
    "    for _id in ids:\n",
    "        valid_anns = []\n",
    "        for an in im_summary[_id]['annotations']:\n",
    "            if an['category_id'] == cat_id:\n",
    "                box = an['bbox']\n",
    "                if box[2] < MIN_SIZE or box[3] < MIN_SIZE:\n",
    "                    continue\n",
    "                if box[2]/box[3] > RATIO or box[3]/box[2] > RATIO:\n",
    "                    continue\n",
    "                valid_anns.append(an)\n",
    "        if len(valid_anns) != 0:\n",
    "            im_dict = im_summary[_id]['im_dict']\n",
    "            im_path = cwd + '/data/coco/images/val2014/' + im_dict['file_name']\n",
    "            im = cv2.imread(im_path)\n",
    "            \n",
    "            random.seed(0)\n",
    "            chosen_ann = random.sample(valid_anns, k=1)[0]\n",
    "            box = [int(i) for i in chosen_ann['bbox']]\n",
    "            im_cropped = im[box[1]:box[1]+box[3]+1, box[0]:box[0]+box[2]+1, :]\n",
    "            \n",
    "            file_name = str(cat_id) + '_' + _id + '.jpg'\n",
    "            output_dir = os.path.join(dump_dir, output_set, cat_name)\n",
    "            output_path = os.path.join(output_dir, file_name)\n",
    "            if not os.path.exists(output_dir):\n",
    "                os.makedirs(output_dir)\n",
    "            cv2.imwrite(output_path, im_cropped)\n",
    "            shot_cnt += 1\n",
    "            if shot_cnt == N_SHOT:\n",
    "                break"
   ]
  },
  {
   "cell_type": "code",
   "execution_count": 11,
   "metadata": {},
   "outputs": [],
   "source": [
    "novel_cls_inds = cls_ind_in_coco_set4\n",
    "output_set = 'set4_random'\n",
    "\n",
    "new_categories = []\n",
    "for cat in data['categories']:\n",
    "    if cat['id'] in novel_cls_inds:\n",
    "        new_categories.append(cat)\n",
    "MIN_SIZE = 64\n",
    "cat_and_their_im_id = []\n",
    "for i, c_d in enumerate(new_categories):\n",
    "    cat_dict = {}\n",
    "    cat_id = c_d['id']\n",
    "    cat_name = c_d['name']\n",
    "    cat_dict['cat_id'] = cat_id\n",
    "    cat_dict['cat_name'] = cat_name\n",
    "    cat_dict['im_ids'] = []\n",
    "    for _key in im_summary.keys():  # for every im\n",
    "        im_dict = im_summary[_key]\n",
    "        if cat_id in im_dict['categories']:  # if this im has this class\n",
    "            valid_an = []\n",
    "            for an in im_dict['annotations']:  # for annos of this im\n",
    "                if an['category_id'] == cat_id:\n",
    "                    if an['bbox'][2] < MIN_SIZE or an['bbox'][3] < MIN_SIZE:\n",
    "                        continue\n",
    "                    else:\n",
    "                        valid_an.append(an)\n",
    "            if len(valid_an) > 0:  # only keep those id have more than one valid box of this class\n",
    "                cat_dict['im_ids'].append(_key)           \n",
    "    cat_and_their_im_id.append(cat_dict)\n",
    "cat_and_their_im_id.sort(key=lambda s: len(s['im_ids']))"
   ]
  },
  {
   "cell_type": "code",
   "execution_count": 12,
   "metadata": {},
   "outputs": [
    {
     "data": {
      "application/vnd.jupyter.widget-view+json": {
       "model_id": "a806f148ced7437d8bca452949965c1e",
       "version_major": 2,
       "version_minor": 0
      },
      "text/plain": [
       "HBox(children=(IntProgress(value=0, max=20), HTML(value='')))"
      ]
     },
     "metadata": {},
     "output_type": "display_data"
    },
    {
     "name": "stdout",
     "output_type": "stream",
     "text": [
      "\n"
     ]
    }
   ],
   "source": [
    "cwd = os.getcwd()\n",
    "dump_dir = cwd + '/data/supports/'\n",
    "N_SHOT = 15\n",
    "MIN_SIZE = 64\n",
    "RATIO = 2.\n",
    "\n",
    "for cat_dict in tqdm(cat_and_their_im_id):\n",
    "    new_dict = {}\n",
    "    cat_id = cat_dict['cat_id']\n",
    "    cat_name = cat_dict['cat_name']\n",
    "    ids = cat_dict['im_ids']\n",
    "    random.seed(0)\n",
    "    random.shuffle(ids)\n",
    "    shot_cnt = 0\n",
    "    for _id in ids:\n",
    "        valid_anns = []\n",
    "        for an in im_summary[_id]['annotations']:\n",
    "            if an['category_id'] == cat_id:\n",
    "                box = an['bbox']\n",
    "                if box[2] < MIN_SIZE or box[3] < MIN_SIZE:\n",
    "                    continue\n",
    "                if box[2]/box[3] > RATIO or box[3]/box[2] > RATIO:\n",
    "                    continue\n",
    "                valid_anns.append(an)\n",
    "        if len(valid_anns) != 0:\n",
    "            im_dict = im_summary[_id]['im_dict']\n",
    "            im_path = cwd + '/data/coco/images/val2014/' + im_dict['file_name']\n",
    "            im = cv2.imread(im_path)\n",
    "            \n",
    "            random.seed(0)\n",
    "            chosen_ann = random.sample(valid_anns, k=1)[0]\n",
    "            box = [int(i) for i in chosen_ann['bbox']]\n",
    "            im_cropped = im[box[1]:box[1]+box[3]+1, box[0]:box[0]+box[2]+1, :]\n",
    "            \n",
    "            file_name = str(cat_id) + '_' + _id + '.jpg'\n",
    "            output_dir = os.path.join(dump_dir, output_set, cat_name)\n",
    "            output_path = os.path.join(output_dir, file_name)\n",
    "            if not os.path.exists(output_dir):\n",
    "                os.makedirs(output_dir)\n",
    "            cv2.imwrite(output_path, im_cropped)\n",
    "            shot_cnt += 1\n",
    "            if shot_cnt == N_SHOT:\n",
    "                break"
   ]
  },
  {
   "cell_type": "code",
   "execution_count": null,
   "metadata": {},
   "outputs": [],
   "source": []
  }
 ],
 "metadata": {
  "kernelspec": {
   "display_name": "rcnn36",
   "language": "python",
   "name": "rcnn36"
  },
  "language_info": {
   "codemirror_mode": {
    "name": "ipython",
    "version": 3
   },
   "file_extension": ".py",
   "mimetype": "text/x-python",
   "name": "python",
   "nbconvert_exporter": "python",
   "pygments_lexer": "ipython3",
   "version": "3.7.3"
  }
 },
 "nbformat": 4,
 "nbformat_minor": 2
}
