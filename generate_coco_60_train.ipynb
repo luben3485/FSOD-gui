{
 "cells": [
  {
   "cell_type": "code",
   "execution_count": 3,
   "metadata": {},
   "outputs": [],
   "source": [
    "import json\n",
    "import os\n",
    "import re\n",
    "import fnmatch\n",
    "from pathlib import Path\n",
    "import numpy as np\n",
    "import cv2\n",
    "import copy\n",
    "import random\n",
    "import xml.etree.ElementTree as ET\n",
    "from matplotlib import pyplot as plt\n",
    "from tqdm import tqdm_notebook as tqdm\n",
    "from pycocotools.coco import COCO"
   ]
  },
  {
   "cell_type": "code",
   "execution_count": 4,
   "metadata": {},
   "outputs": [
    {
     "data": {
      "text/plain": [
       "dict_keys(['info', 'images', 'licenses', 'annotations', 'categories'])"
      ]
     },
     "execution_count": 4,
     "metadata": {},
     "output_type": "execute_result"
    }
   ],
   "source": [
    "cwd = os.getcwd()\n",
    "coco_json_path = cwd + '/data/coco/annotations/instances_train2014.json'\n",
    "with open(coco_json_path, 'r') as f:\n",
    "    original_coco_data = json.load(f)\n",
    "original_coco_data.keys()"
   ]
  },
  {
   "cell_type": "code",
   "execution_count": 20,
   "metadata": {},
   "outputs": [
    {
     "name": "stdout",
     "output_type": "stream",
     "text": [
      "{'person': 1, 'bicycle': 2, 'car': 3, 'motorcycle': 4, 'airplane': 5, 'bus': 6, 'train': 7, 'truck': 8, 'boat': 9, 'traffic light': 10, 'fire hydrant': 11, 'stop sign': 13, 'parking meter': 14, 'bench': 15, 'bird': 16, 'cat': 17, 'dog': 18, 'horse': 19, 'sheep': 20, 'cow': 21, 'elephant': 22, 'bear': 23, 'zebra': 24, 'giraffe': 25, 'backpack': 27, 'umbrella': 28, 'handbag': 31, 'tie': 32, 'suitcase': 33, 'frisbee': 34, 'skis': 35, 'snowboard': 36, 'sports ball': 37, 'kite': 38, 'baseball bat': 39, 'baseball glove': 40, 'skateboard': 41, 'surfboard': 42, 'tennis racket': 43, 'bottle': 44, 'wine glass': 46, 'cup': 47, 'fork': 48, 'knife': 49, 'spoon': 50, 'bowl': 51, 'banana': 52, 'apple': 53, 'sandwich': 54, 'orange': 55, 'broccoli': 56, 'carrot': 57, 'hot dog': 58, 'pizza': 59, 'donut': 60, 'cake': 61, 'chair': 62, 'couch': 63, 'potted plant': 64, 'bed': 65, 'dining table': 67, 'toilet': 70, 'tv': 72, 'laptop': 73, 'mouse': 74, 'remote': 75, 'keyboard': 76, 'cell phone': 77, 'microwave': 78, 'oven': 79, 'toaster': 80, 'sink': 81, 'refrigerator': 82, 'book': 84, 'clock': 85, 'vase': 86, 'scissors': 87, 'teddy bear': 88, 'hair drier': 89, 'toothbrush': 90}\n"
     ]
    }
   ],
   "source": [
    "print(name_to_cls_ind_in_coco)"
   ]
  },
  {
   "cell_type": "code",
   "execution_count": 19,
   "metadata": {},
   "outputs": [],
   "source": [
    "cls_ind_to_name_in_coco = {}\n",
    "name_to_cls_ind_in_coco = {}\n",
    "all_cls_ind_in_coco = []\n",
    "for _cat in original_coco_data['categories']:\n",
    "    all_cls_ind_in_coco.append(_cat['id'])\n",
    "    cls_ind_to_name_in_coco[_cat['id']] = _cat['name']\n",
    "    name_to_cls_ind_in_coco[_cat['name']] = _cat['id']\n",
    "\n",
    "cls_name_in_voc = ['person', 'bird', 'cat', 'cow', 'dog', 'horse', 'sheep',\n",
    "                      'airplane', 'bicycle', 'boat', 'bus' ,'car', 'motorcycle',\n",
    "                      'train', 'bottle', 'chair', 'dining table', 'potted plant', 'couch', 'tv']\n",
    "\n",
    "cls_ind_in_coco_set1 = []\n",
    "for _cat in original_coco_data['categories']:\n",
    "    if _cat['name'] in cls_name_in_voc:\n",
    "        cls_ind_in_coco_set1.append(_cat['id'])\n",
    "\n",
    "cls_pool = copy.deepcopy(all_cls_ind_in_coco)\n",
    "for _cls in cls_ind_in_coco_set1:\n",
    "    cls_pool.remove(_cls)\n",
    "\n",
    "random.seed(0)\n",
    "cls_ind_in_coco_set2 = random.sample(cls_pool, k=20)\n",
    "for _cls in cls_ind_in_coco_set2:\n",
    "    cls_pool.remove(_cls)\n",
    "\n",
    "random.seed(0)\n",
    "cls_ind_in_coco_set3 = random.sample(cls_pool, k=20)\n",
    "for _cls in cls_ind_in_coco_set3:\n",
    "    cls_pool.remove(_cls)\n",
    "\n",
    "cls_ind_in_coco_set4 = cls_pool\n",
    "\n",
    "cls_ind_all_set = [cls_ind_in_coco_set1, cls_ind_in_coco_set2, cls_ind_in_coco_set3, cls_ind_in_coco_set4]"
   ]
  },
  {
   "cell_type": "code",
   "execution_count": 12,
   "metadata": {},
   "outputs": [
    {
     "name": "stdout",
     "output_type": "stream",
     "text": [
      "[1, 2, 3, 4, 5, 6, 7, 9, 16, 17, 18, 19, 20, 21, 44, 62, 63, 64, 67, 72]\n",
      "[85, 43, 78, 87, 47, 11, 35, 53, 52, 46, 38, 51, 41, 58, 32, 82, 24, 37, 73, 22]\n",
      "[60, 65, 13, 48, 79, 77, 61, 54, 76, 34, 50, 74, 25, 86, 15, 31, 80, 14, 84, 28]\n",
      "[8, 10, 23, 27, 33, 36, 39, 40, 42, 49, 55, 56, 57, 59, 70, 75, 81, 88, 89, 90]\n"
     ]
    }
   ],
   "source": [
    "print(cls_ind_in_coco_set1)\n",
    "print(cls_ind_in_coco_set2)\n",
    "print(cls_ind_in_coco_set3)\n",
    "print(cls_ind_in_coco_set4)"
   ]
  },
  {
   "cell_type": "code",
   "execution_count": 10,
   "metadata": {},
   "outputs": [],
   "source": [
    "im_summary = {}\n",
    "for i, im_d in enumerate(original_coco_data['images']):\n",
    "    im_summary[str(im_d['id'])] = {}\n",
    "    im_summary[str(im_d['id'])]['im_dict'] = im_d\n",
    "    im_summary[str(im_d['id'])]['annotations'] = []\n",
    "    im_summary[str(im_d['id'])]['categories'] = []\n",
    "for j, a_d in enumerate(original_coco_data['annotations']):\n",
    "    if a_d['iscrowd'] == 0:  # only keep non-crowd annotations\n",
    "        im_id = a_d['image_id']\n",
    "        cat_id = a_d['category_id']\n",
    "        im_summary[str(im_id)]['annotations'].append(a_d)\n",
    "        im_summary[str(im_id)]['categories'].append(cat_id)\n",
    "for _key in im_summary.keys():\n",
    "    im_summary[_key]['categories'] = list(set(im_summary[_key]['categories']))"
   ]
  },
  {
   "cell_type": "markdown",
   "metadata": {},
   "source": [
    "### coco 60 train data"
   ]
  },
  {
   "cell_type": "code",
   "execution_count": 13,
   "metadata": {},
   "outputs": [
    {
     "data": {
      "application/vnd.jupyter.widget-view+json": {
       "model_id": "41860009827946dfb4e37b58e16c9b84",
       "version_major": 2,
       "version_minor": 0
      },
      "text/plain": [
       "HBox(children=(IntProgress(value=0, max=82783), HTML(value='')))"
      ]
     },
     "metadata": {},
     "output_type": "display_data"
    },
    {
     "name": "stdout",
     "output_type": "stream",
     "text": [
      "\n"
     ]
    },
    {
     "data": {
      "application/vnd.jupyter.widget-view+json": {
       "model_id": "44931d4c10d24a2da2e37d5020c12fcf",
       "version_major": 2,
       "version_minor": 0
      },
      "text/plain": [
       "HBox(children=(IntProgress(value=0, max=82783), HTML(value='')))"
      ]
     },
     "metadata": {},
     "output_type": "display_data"
    },
    {
     "name": "stdout",
     "output_type": "stream",
     "text": [
      "\n"
     ]
    },
    {
     "data": {
      "application/vnd.jupyter.widget-view+json": {
       "model_id": "2916af67af2d4b6cbc0681e9d6a580cc",
       "version_major": 2,
       "version_minor": 0
      },
      "text/plain": [
       "HBox(children=(IntProgress(value=0, max=82783), HTML(value='')))"
      ]
     },
     "metadata": {},
     "output_type": "display_data"
    },
    {
     "name": "stdout",
     "output_type": "stream",
     "text": [
      "\n"
     ]
    },
    {
     "data": {
      "application/vnd.jupyter.widget-view+json": {
       "model_id": "ef870c713c5d4fb0a78d2d1d69c91f9e",
       "version_major": 2,
       "version_minor": 0
      },
      "text/plain": [
       "HBox(children=(IntProgress(value=0, max=82783), HTML(value='')))"
      ]
     },
     "metadata": {},
     "output_type": "display_data"
    },
    {
     "name": "stdout",
     "output_type": "stream",
     "text": [
      "\n"
     ]
    }
   ],
   "source": [
    "cwd = os.getcwd()\n",
    "dump_dir = cwd + '/data/coco/annotations/coco60_train'\n",
    "set_names = ['set1', 'set2', 'set3', 'set4',]\n",
    "for current_novel_class_inds, set_name in zip(cls_ind_all_set, set_names):\n",
    "    new_data = {}\n",
    "    new_data['info'] = original_coco_data['info']\n",
    "    new_data['images'] = []\n",
    "    new_data['licenses'] = original_coco_data['licenses']\n",
    "    new_data['annotations'] = []\n",
    "    new_data['categories'] = []\n",
    "    \n",
    "    new_categories = []\n",
    "    for cat in original_coco_data['categories']:\n",
    "        if cat['id'] not in current_novel_class_inds:\n",
    "            new_categories.append(cat)\n",
    "    new_data['categories'] = new_categories\n",
    "\n",
    "    im_id_to_filt = []\n",
    "    for _key in im_summary.keys():\n",
    "        only_novel_class = True\n",
    "        for cls_id in im_summary[_key]['categories']:\n",
    "            if cls_id not in current_novel_class_inds:\n",
    "                only_novel_class = False\n",
    "                break\n",
    "        if only_novel_class:\n",
    "            im_id_to_filt.append(im_summary[_key]['im_dict']['id'])\n",
    "            \n",
    "    for im in tqdm(original_coco_data['images']):\n",
    "        if im['id'] not in im_id_to_filt:\n",
    "            new_data['images'].append(im)\n",
    "    for ann in original_coco_data['annotations']:\n",
    "        if ann['category_id'] not in current_novel_class_inds:\n",
    "            new_data['annotations'].append(ann)\n",
    "\n",
    "    dump_path = os.path.join(dump_dir, 'instances_' + set_name +'.json')\n",
    "    with open(dump_path, 'w') as f:\n",
    "        json.dump(new_data, f)"
   ]
  },
  {
   "cell_type": "code",
   "execution_count": 17,
   "metadata": {},
   "outputs": [
    {
     "name": "stdout",
     "output_type": "stream",
     "text": [
      "loading annotations into memory...\n",
      "Done (t=2.82s)\n",
      "creating index...\n",
      "index created!\n",
      "68937\n",
      "258186\n",
      "60\n"
     ]
    }
   ],
   "source": [
    "_COCO = COCO(os.path.join(dump_dir, 'instances_set1.json'))\n",
    "print(len(_COCO.imgs))\n",
    "print(len(_COCO.anns))\n",
    "print(len(_COCO.cats))"
   ]
  },
  {
   "cell_type": "code",
   "execution_count": null,
   "metadata": {},
   "outputs": [],
   "source": []
  },
  {
   "cell_type": "code",
   "execution_count": null,
   "metadata": {},
   "outputs": [],
   "source": []
  },
  {
   "cell_type": "code",
   "execution_count": 8,
   "metadata": {},
   "outputs": [
    {
     "data": {
      "text/plain": [
       "{'license': 5,\n",
       " 'file_name': 'COCO_train2014_000000057870.jpg',\n",
       " 'coco_url': 'http://images.cocodataset.org/train2014/COCO_train2014_000000057870.jpg',\n",
       " 'height': 480,\n",
       " 'width': 640,\n",
       " 'date_captured': '2013-11-14 16:28:13',\n",
       " 'flickr_url': 'http://farm4.staticflickr.com/3153/2970773875_164f0c0b83_z.jpg',\n",
       " 'id': 57870}"
      ]
     },
     "execution_count": 8,
     "metadata": {},
     "output_type": "execute_result"
    }
   ],
   "source": [
    "data['images'][0]"
   ]
  },
  {
   "cell_type": "code",
   "execution_count": 9,
   "metadata": {},
   "outputs": [
    {
     "data": {
      "text/plain": [
       "{'segmentation': [[312.29,\n",
       "   562.89,\n",
       "   402.25,\n",
       "   511.49,\n",
       "   400.96,\n",
       "   425.38,\n",
       "   398.39,\n",
       "   372.69,\n",
       "   388.11,\n",
       "   332.85,\n",
       "   318.71,\n",
       "   325.14,\n",
       "   295.58,\n",
       "   305.86,\n",
       "   269.88,\n",
       "   314.86,\n",
       "   258.31,\n",
       "   337.99,\n",
       "   217.19,\n",
       "   321.29,\n",
       "   182.49,\n",
       "   343.13,\n",
       "   141.37,\n",
       "   348.27,\n",
       "   132.37,\n",
       "   358.55,\n",
       "   159.36,\n",
       "   377.83,\n",
       "   116.95,\n",
       "   421.53,\n",
       "   167.07,\n",
       "   499.92,\n",
       "   232.61,\n",
       "   560.32,\n",
       "   300.72,\n",
       "   571.89]],\n",
       " 'area': 54652.9556,\n",
       " 'iscrowd': 0,\n",
       " 'image_id': 480023,\n",
       " 'bbox': [116.95, 305.86, 285.3, 266.03],\n",
       " 'category_id': 58,\n",
       " 'id': 86}"
      ]
     },
     "execution_count": 9,
     "metadata": {},
     "output_type": "execute_result"
    }
   ],
   "source": [
    "data['annotations'][0]"
   ]
  },
  {
   "cell_type": "code",
   "execution_count": 6,
   "metadata": {},
   "outputs": [
    {
     "data": {
      "text/plain": [
       "[{'supercategory': 'person', 'id': 1, 'name': 'person'},\n",
       " {'supercategory': 'vehicle', 'id': 2, 'name': 'bicycle'},\n",
       " {'supercategory': 'vehicle', 'id': 3, 'name': 'car'},\n",
       " {'supercategory': 'vehicle', 'id': 4, 'name': 'motorcycle'},\n",
       " {'supercategory': 'vehicle', 'id': 5, 'name': 'airplane'},\n",
       " {'supercategory': 'vehicle', 'id': 6, 'name': 'bus'},\n",
       " {'supercategory': 'vehicle', 'id': 7, 'name': 'train'},\n",
       " {'supercategory': 'vehicle', 'id': 8, 'name': 'truck'},\n",
       " {'supercategory': 'vehicle', 'id': 9, 'name': 'boat'},\n",
       " {'supercategory': 'outdoor', 'id': 10, 'name': 'traffic light'},\n",
       " {'supercategory': 'outdoor', 'id': 11, 'name': 'fire hydrant'},\n",
       " {'supercategory': 'outdoor', 'id': 13, 'name': 'stop sign'},\n",
       " {'supercategory': 'outdoor', 'id': 14, 'name': 'parking meter'},\n",
       " {'supercategory': 'outdoor', 'id': 15, 'name': 'bench'},\n",
       " {'supercategory': 'animal', 'id': 16, 'name': 'bird'},\n",
       " {'supercategory': 'animal', 'id': 17, 'name': 'cat'},\n",
       " {'supercategory': 'animal', 'id': 18, 'name': 'dog'},\n",
       " {'supercategory': 'animal', 'id': 19, 'name': 'horse'},\n",
       " {'supercategory': 'animal', 'id': 20, 'name': 'sheep'},\n",
       " {'supercategory': 'animal', 'id': 21, 'name': 'cow'},\n",
       " {'supercategory': 'animal', 'id': 22, 'name': 'elephant'},\n",
       " {'supercategory': 'animal', 'id': 23, 'name': 'bear'},\n",
       " {'supercategory': 'animal', 'id': 24, 'name': 'zebra'},\n",
       " {'supercategory': 'animal', 'id': 25, 'name': 'giraffe'},\n",
       " {'supercategory': 'accessory', 'id': 27, 'name': 'backpack'},\n",
       " {'supercategory': 'accessory', 'id': 28, 'name': 'umbrella'},\n",
       " {'supercategory': 'accessory', 'id': 31, 'name': 'handbag'},\n",
       " {'supercategory': 'accessory', 'id': 32, 'name': 'tie'},\n",
       " {'supercategory': 'accessory', 'id': 33, 'name': 'suitcase'},\n",
       " {'supercategory': 'sports', 'id': 34, 'name': 'frisbee'},\n",
       " {'supercategory': 'sports', 'id': 35, 'name': 'skis'},\n",
       " {'supercategory': 'sports', 'id': 36, 'name': 'snowboard'},\n",
       " {'supercategory': 'sports', 'id': 37, 'name': 'sports ball'},\n",
       " {'supercategory': 'sports', 'id': 38, 'name': 'kite'},\n",
       " {'supercategory': 'sports', 'id': 39, 'name': 'baseball bat'},\n",
       " {'supercategory': 'sports', 'id': 40, 'name': 'baseball glove'},\n",
       " {'supercategory': 'sports', 'id': 41, 'name': 'skateboard'},\n",
       " {'supercategory': 'sports', 'id': 42, 'name': 'surfboard'},\n",
       " {'supercategory': 'sports', 'id': 43, 'name': 'tennis racket'},\n",
       " {'supercategory': 'kitchen', 'id': 44, 'name': 'bottle'},\n",
       " {'supercategory': 'kitchen', 'id': 46, 'name': 'wine glass'},\n",
       " {'supercategory': 'kitchen', 'id': 47, 'name': 'cup'},\n",
       " {'supercategory': 'kitchen', 'id': 48, 'name': 'fork'},\n",
       " {'supercategory': 'kitchen', 'id': 49, 'name': 'knife'},\n",
       " {'supercategory': 'kitchen', 'id': 50, 'name': 'spoon'},\n",
       " {'supercategory': 'kitchen', 'id': 51, 'name': 'bowl'},\n",
       " {'supercategory': 'food', 'id': 52, 'name': 'banana'},\n",
       " {'supercategory': 'food', 'id': 53, 'name': 'apple'},\n",
       " {'supercategory': 'food', 'id': 54, 'name': 'sandwich'},\n",
       " {'supercategory': 'food', 'id': 55, 'name': 'orange'},\n",
       " {'supercategory': 'food', 'id': 56, 'name': 'broccoli'},\n",
       " {'supercategory': 'food', 'id': 57, 'name': 'carrot'},\n",
       " {'supercategory': 'food', 'id': 58, 'name': 'hot dog'},\n",
       " {'supercategory': 'food', 'id': 59, 'name': 'pizza'},\n",
       " {'supercategory': 'food', 'id': 60, 'name': 'donut'},\n",
       " {'supercategory': 'food', 'id': 61, 'name': 'cake'},\n",
       " {'supercategory': 'furniture', 'id': 62, 'name': 'chair'},\n",
       " {'supercategory': 'furniture', 'id': 63, 'name': 'couch'},\n",
       " {'supercategory': 'furniture', 'id': 64, 'name': 'potted plant'},\n",
       " {'supercategory': 'furniture', 'id': 65, 'name': 'bed'},\n",
       " {'supercategory': 'furniture', 'id': 67, 'name': 'dining table'},\n",
       " {'supercategory': 'furniture', 'id': 70, 'name': 'toilet'},\n",
       " {'supercategory': 'electronic', 'id': 72, 'name': 'tv'},\n",
       " {'supercategory': 'electronic', 'id': 73, 'name': 'laptop'},\n",
       " {'supercategory': 'electronic', 'id': 74, 'name': 'mouse'},\n",
       " {'supercategory': 'electronic', 'id': 75, 'name': 'remote'},\n",
       " {'supercategory': 'electronic', 'id': 76, 'name': 'keyboard'},\n",
       " {'supercategory': 'electronic', 'id': 77, 'name': 'cell phone'},\n",
       " {'supercategory': 'appliance', 'id': 78, 'name': 'microwave'},\n",
       " {'supercategory': 'appliance', 'id': 79, 'name': 'oven'},\n",
       " {'supercategory': 'appliance', 'id': 80, 'name': 'toaster'},\n",
       " {'supercategory': 'appliance', 'id': 81, 'name': 'sink'},\n",
       " {'supercategory': 'appliance', 'id': 82, 'name': 'refrigerator'},\n",
       " {'supercategory': 'indoor', 'id': 84, 'name': 'book'},\n",
       " {'supercategory': 'indoor', 'id': 85, 'name': 'clock'},\n",
       " {'supercategory': 'indoor', 'id': 86, 'name': 'vase'},\n",
       " {'supercategory': 'indoor', 'id': 87, 'name': 'scissors'},\n",
       " {'supercategory': 'indoor', 'id': 88, 'name': 'teddy bear'},\n",
       " {'supercategory': 'indoor', 'id': 89, 'name': 'hair drier'},\n",
       " {'supercategory': 'indoor', 'id': 90, 'name': 'toothbrush'}]"
      ]
     },
     "execution_count": 6,
     "metadata": {},
     "output_type": "execute_result"
    }
   ],
   "source": [
    "original_coco_data['categories']"
   ]
  },
  {
   "cell_type": "code",
   "execution_count": null,
   "metadata": {},
   "outputs": [],
   "source": []
  }
 ],
 "metadata": {
  "kernelspec": {
   "display_name": "rcnn36",
   "language": "python",
   "name": "rcnn36"
  },
  "language_info": {
   "codemirror_mode": {
    "name": "ipython",
    "version": 3
   },
   "file_extension": ".py",
   "mimetype": "text/x-python",
   "name": "python",
   "nbconvert_exporter": "python",
   "pygments_lexer": "ipython3",
   "version": "3.7.3"
  }
 },
 "nbformat": 4,
 "nbformat_minor": 2
}
