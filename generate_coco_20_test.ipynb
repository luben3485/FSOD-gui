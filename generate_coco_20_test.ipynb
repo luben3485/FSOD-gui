{
 "cells": [
  {
   "cell_type": "code",
   "execution_count": 1,
   "metadata": {},
   "outputs": [],
   "source": [
    "import json\n",
    "import os\n",
    "import re\n",
    "import fnmatch\n",
    "from pathlib import Path\n",
    "import numpy as np\n",
    "import cv2\n",
    "import copy\n",
    "import random\n",
    "import xml.etree.ElementTree as ET\n",
    "from matplotlib import pyplot as plt\n",
    "from tqdm import tqdm_notebook as tqdm\n",
    "from pycocotools.coco import COCO"
   ]
  },
  {
   "cell_type": "code",
   "execution_count": 2,
   "metadata": {},
   "outputs": [],
   "source": [
    "cls_ind_in_coco_set1 = [1, 2, 3, 4, 5, 6, 7, 9, 16, 17, 18, 19, 20, 21, 44, 62, 63, 64, 67, 72]\n",
    "cls_ind_in_coco_set2 = [85, 43, 78, 87, 47, 11, 35, 53, 52, 46, 38, 51, 41, 58, 32, 82, 24, 37, 73, 22]\n",
    "cls_ind_in_coco_set3 = [60, 65, 13, 48, 79, 77, 61, 54, 76, 34, 50, 74, 25, 86, 15, 31, 80, 14, 84, 28]\n",
    "cls_ind_in_coco_set4 = [8, 10, 23, 27, 33, 36, 39, 40, 42, 49, 55, 56, 57, 59, 70, 75, 81, 88, 89, 90]"
   ]
  },
  {
   "cell_type": "code",
   "execution_count": 4,
   "metadata": {},
   "outputs": [
    {
     "data": {
      "application/vnd.jupyter.widget-view+json": {
       "model_id": "2d600dfe9b2d4a27bd0b120cec5f0d22",
       "version_major": 2,
       "version_minor": 0
      },
      "text/plain": [
       "HBox(children=(IntProgress(value=1, bar_style='info', max=1), HTML(value='')))"
      ]
     },
     "metadata": {},
     "output_type": "display_data"
    },
    {
     "name": "stdout",
     "output_type": "stream",
     "text": [
      "\n"
     ]
    }
   ],
   "source": [
    "cwd = os.getcwd()\n",
    "coco_json_path = cwd + '/data/coco/annotations/instances_val2014.json'\n",
    "with open(coco_json_path, 'r') as f:\n",
    "    data = json.load(f)\n",
    "\n",
    "im_summary = {}\n",
    "for i, im_d in tqdm(enumerate(data['images'])):\n",
    "    im_summary[str(im_d['id'])] = {}\n",
    "    im_summary[str(im_d['id'])]['im_dict'] = im_d\n",
    "    im_summary[str(im_d['id'])]['annotations'] = []\n",
    "    im_summary[str(im_d['id'])]['categories'] = []\n",
    "for j, a_d in enumerate(data['annotations']):\n",
    "    if a_d['iscrowd'] == 0:  # only keep non-crowd annotations\n",
    "        im_id = a_d['image_id']\n",
    "        cat_id = a_d['category_id']\n",
    "        im_summary[str(im_id)]['annotations'].append(a_d)\n",
    "        im_summary[str(im_id)]['categories'].append(cat_id)\n",
    "for _key in im_summary.keys():\n",
    "    im_summary[_key]['categories'] = list(set(im_summary[_key]['categories']))"
   ]
  },
  {
   "cell_type": "markdown",
   "metadata": {},
   "source": [
    "### set1"
   ]
  },
  {
   "cell_type": "code",
   "execution_count": 5,
   "metadata": {},
   "outputs": [],
   "source": [
    "novel_cls_inds = cls_ind_in_coco_set1\n",
    "new_categories = []\n",
    "for cat in data['categories']:\n",
    "    if cat['id'] in novel_cls_inds:\n",
    "        new_categories.append(cat)\n",
    "\n",
    "MIN_SIZE = 64\n",
    "cat_and_their_im_id = []\n",
    "for i, c_d in enumerate(new_categories):\n",
    "    cat_dict = {}\n",
    "    cat_id = c_d['id']\n",
    "    cat_dict['cat_id'] = cat_id\n",
    "    cat_dict['im_ids'] = []\n",
    "    for _key in im_summary.keys():  # for every im\n",
    "        im_dict = im_summary[_key]\n",
    "        if cat_id in im_dict['categories']:  # if this im has this class\n",
    "            valid_an = []\n",
    "            for an in im_dict['annotations']:  # for annos of this im\n",
    "                if an['category_id'] == cat_id:\n",
    "                    if an['bbox'][2] < MIN_SIZE or an['bbox'][3] < MIN_SIZE:\n",
    "                        continue\n",
    "                    else:\n",
    "                        valid_an.append(an)\n",
    "            if len(valid_an) > 0:  # only keep those id have more than one valid box of this class\n",
    "                cat_dict['im_ids'].append(_key)           \n",
    "    cat_and_their_im_id.append(cat_dict)\n",
    "cat_and_their_im_id.sort(key=lambda s: len(s['im_ids']))"
   ]
  },
  {
   "cell_type": "code",
   "execution_count": 6,
   "metadata": {},
   "outputs": [
    {
     "data": {
      "application/vnd.jupyter.widget-view+json": {
       "model_id": "5711e394a33947e3a25928b88ccd61c1",
       "version_major": 2,
       "version_minor": 0
      },
      "text/plain": [
       "HBox(children=(IntProgress(value=0, max=10), HTML(value='')))"
      ]
     },
     "metadata": {},
     "output_type": "display_data"
    },
    {
     "name": "stdout",
     "output_type": "stream",
     "text": [
      "\n"
     ]
    }
   ],
   "source": [
    "cwd = os.getcwd()\n",
    "dump_dir = cwd + '/data/coco/annotations/coco20_test/set1'\n",
    "N_EPISODE = 10\n",
    "IM_PER_CLASS = 10\n",
    "\n",
    "for epi in tqdm(range(N_EPISODE)):\n",
    "    ### generate query json\n",
    "    id_have_selected = []\n",
    "    episode = []\n",
    "    for cat_dict in cat_and_their_im_id:\n",
    "        new_dict = {}\n",
    "        cat_id = cat_dict['cat_id']\n",
    "        ids = cat_dict['im_ids']\n",
    "        for _id in id_have_selected:  # remove im that has been picked\n",
    "            if _id in ids:\n",
    "                ids.remove(_id)\n",
    "        random.seed(epi)\n",
    "        selected_ids = random.sample(ids, k=IM_PER_CLASS)\n",
    "        id_have_selected.extend(selected_ids)\n",
    "        new_dict['cat_id'] = cat_id\n",
    "        new_dict['im_ids'] = selected_ids\n",
    "        episode.append(new_dict)\n",
    "        \n",
    "    new_data = {}\n",
    "    new_data['info'] = data['info']\n",
    "    new_data['images'] = []\n",
    "    new_data['licenses'] = data['licenses']\n",
    "    new_data['annotations'] = []\n",
    "    new_data['categories'] = new_categories\n",
    "    for cat_dict in episode:\n",
    "        cat_id = cat_dict['cat_id']\n",
    "        id_list = cat_dict['im_ids']\n",
    "        for _id in id_list:\n",
    "            new_data['images'].append(im_summary[_id]['im_dict'])\n",
    "            for an in im_summary[_id]['annotations']:\n",
    "                if an['category_id'] == cat_id:\n",
    "                    new_data['annotations'].append(an)\n",
    "    dump_path = os.path.join(dump_dir, 'ep' + str(epi) + '.json')\n",
    "    with open(dump_path, 'w') as f:\n",
    "        json.dump(new_data, f)\n",
    "        "
   ]
  },
  {
   "cell_type": "code",
   "execution_count": 11,
   "metadata": {},
   "outputs": [
    {
     "name": "stdout",
     "output_type": "stream",
     "text": [
      "loading annotations into memory...\n",
      "Done (t=0.01s)\n",
      "creating index...\n",
      "index created!\n",
      "200\n",
      "475\n",
      "20\n"
     ]
    }
   ],
   "source": [
    "_COCO = COCO(dump_path)\n",
    "print(len(_COCO.imgs))\n",
    "print(len(_COCO.anns))\n",
    "print(len(_COCO.cats))"
   ]
  },
  {
   "cell_type": "markdown",
   "metadata": {},
   "source": [
    "### part2"
   ]
  },
  {
   "cell_type": "code",
   "execution_count": 5,
   "metadata": {},
   "outputs": [
    {
     "data": {
      "application/vnd.jupyter.widget-view+json": {
       "model_id": "59bc0eb7a3f445da98cbdc7a1856606d",
       "version_major": 2,
       "version_minor": 0
      },
      "text/plain": [
       "HBox(children=(IntProgress(value=0, max=10), HTML(value='')))"
      ]
     },
     "metadata": {},
     "output_type": "display_data"
    },
    {
     "name": "stdout",
     "output_type": "stream",
     "text": [
      "\n"
     ]
    }
   ],
   "source": [
    "cwd = os.getcwd()\n",
    "novel_cls_inds = cls_ind_in_coco_set2\n",
    "dump_dir = cwd + '/data/coco/annotations/coco20_test/set2'\n",
    "N_EPISODE = 10\n",
    "IM_PER_CLASS = 10\n",
    "\n",
    "new_categories = []\n",
    "for cat in data['categories']:\n",
    "    if cat['id'] in novel_cls_inds:\n",
    "        new_categories.append(cat)\n",
    "\n",
    "MIN_SIZE = 64\n",
    "cat_and_their_im_id = []\n",
    "for i, c_d in enumerate(new_categories):\n",
    "    cat_dict = {}\n",
    "    cat_id = c_d['id']\n",
    "    cat_dict['cat_id'] = cat_id\n",
    "    cat_dict['im_ids'] = []\n",
    "    for _key in im_summary.keys():  # for every im\n",
    "        im_dict = im_summary[_key]\n",
    "        if cat_id in im_dict['categories']:  # if this im has this class\n",
    "            valid_an = []\n",
    "            for an in im_dict['annotations']:  # for annos of this im\n",
    "                if an['category_id'] == cat_id:\n",
    "                    if an['bbox'][2] < MIN_SIZE or an['bbox'][3] < MIN_SIZE:\n",
    "                        continue\n",
    "                    else:\n",
    "                        valid_an.append(an)\n",
    "            if len(valid_an) > 0:  # only keep those id have more than one valid box of this class\n",
    "                cat_dict['im_ids'].append(_key)           \n",
    "    cat_and_their_im_id.append(cat_dict)\n",
    "cat_and_their_im_id.sort(key=lambda s: len(s['im_ids']))\n",
    "\n",
    "for epi in tqdm(range(N_EPISODE)):\n",
    "    ### generate query json\n",
    "    id_have_selected = []\n",
    "    episode = []\n",
    "    for cat_dict in cat_and_their_im_id:\n",
    "        new_dict = {}\n",
    "        cat_id = cat_dict['cat_id']\n",
    "        ids = cat_dict['im_ids']\n",
    "        for _id in id_have_selected:  # remove im that has been picked\n",
    "            if _id in ids:\n",
    "                ids.remove(_id)\n",
    "        random.seed(epi)\n",
    "        selected_ids = random.sample(ids, k=IM_PER_CLASS)\n",
    "        id_have_selected.extend(selected_ids)\n",
    "        new_dict['cat_id'] = cat_id\n",
    "        new_dict['im_ids'] = selected_ids\n",
    "        episode.append(new_dict)\n",
    "        \n",
    "    new_data = {}\n",
    "    new_data['info'] = data['info']\n",
    "    new_data['images'] = []\n",
    "    new_data['licenses'] = data['licenses']\n",
    "    new_data['annotations'] = []\n",
    "    new_data['categories'] = new_categories\n",
    "    for cat_dict in episode:\n",
    "        cat_id = cat_dict['cat_id']\n",
    "        id_list = cat_dict['im_ids']\n",
    "        for _id in id_list:\n",
    "            new_data['images'].append(im_summary[_id]['im_dict'])\n",
    "            for an in im_summary[_id]['annotations']:\n",
    "                if an['category_id'] == cat_id:\n",
    "                    new_data['annotations'].append(an)\n",
    "    dump_path = os.path.join(dump_dir, 'ep' + str(epi) + '.json')\n",
    "    with open(dump_path, 'w') as f:\n",
    "        json.dump(new_data, f)"
   ]
  },
  {
   "cell_type": "markdown",
   "metadata": {},
   "source": [
    "### part3"
   ]
  },
  {
   "cell_type": "code",
   "execution_count": 6,
   "metadata": {},
   "outputs": [
    {
     "data": {
      "application/vnd.jupyter.widget-view+json": {
       "model_id": "c9fb27fe08e5443fa5bebced3f538171",
       "version_major": 2,
       "version_minor": 0
      },
      "text/plain": [
       "HBox(children=(IntProgress(value=0, max=10), HTML(value='')))"
      ]
     },
     "metadata": {},
     "output_type": "display_data"
    },
    {
     "name": "stdout",
     "output_type": "stream",
     "text": [
      "\n"
     ]
    }
   ],
   "source": [
    "cwd = os.getcwd()\n",
    "novel_cls_inds = cls_ind_in_coco_set3\n",
    "dump_dir = cwd + '/data/coco/annotations/coco20_test/set3'\n",
    "N_EPISODE = 10\n",
    "IM_PER_CLASS = 10\n",
    "\n",
    "new_categories = []\n",
    "for cat in data['categories']:\n",
    "    if cat['id'] in novel_cls_inds:\n",
    "        new_categories.append(cat)\n",
    "\n",
    "MIN_SIZE = 64\n",
    "cat_and_their_im_id = []\n",
    "for i, c_d in enumerate(new_categories):\n",
    "    cat_dict = {}\n",
    "    cat_id = c_d['id']\n",
    "    cat_dict['cat_id'] = cat_id\n",
    "    cat_dict['im_ids'] = []\n",
    "    for _key in im_summary.keys():  # for every im\n",
    "        im_dict = im_summary[_key]\n",
    "        if cat_id in im_dict['categories']:  # if this im has this class\n",
    "            valid_an = []\n",
    "            for an in im_dict['annotations']:  # for annos of this im\n",
    "                if an['category_id'] == cat_id:\n",
    "                    if an['bbox'][2] < MIN_SIZE or an['bbox'][3] < MIN_SIZE:\n",
    "                        continue\n",
    "                    else:\n",
    "                        valid_an.append(an)\n",
    "            if len(valid_an) > 0:  # only keep those id have more than one valid box of this class\n",
    "                cat_dict['im_ids'].append(_key)           \n",
    "    cat_and_their_im_id.append(cat_dict)\n",
    "cat_and_their_im_id.sort(key=lambda s: len(s['im_ids']))\n",
    "\n",
    "for epi in tqdm(range(N_EPISODE)):\n",
    "    ### generate query json\n",
    "    id_have_selected = []\n",
    "    episode = []\n",
    "    for cat_dict in cat_and_their_im_id:\n",
    "        new_dict = {}\n",
    "        cat_id = cat_dict['cat_id']\n",
    "        ids = cat_dict['im_ids']\n",
    "        for _id in id_have_selected:  # remove im that has been picked\n",
    "            if _id in ids:\n",
    "                ids.remove(_id)\n",
    "        random.seed(epi)\n",
    "        selected_ids = random.sample(ids, k=IM_PER_CLASS)\n",
    "        id_have_selected.extend(selected_ids)\n",
    "        new_dict['cat_id'] = cat_id\n",
    "        new_dict['im_ids'] = selected_ids\n",
    "        episode.append(new_dict)\n",
    "        \n",
    "    new_data = {}\n",
    "    new_data['info'] = data['info']\n",
    "    new_data['images'] = []\n",
    "    new_data['licenses'] = data['licenses']\n",
    "    new_data['annotations'] = []\n",
    "    new_data['categories'] = new_categories\n",
    "    for cat_dict in episode:\n",
    "        cat_id = cat_dict['cat_id']\n",
    "        id_list = cat_dict['im_ids']\n",
    "        for _id in id_list:\n",
    "            new_data['images'].append(im_summary[_id]['im_dict'])\n",
    "            for an in im_summary[_id]['annotations']:\n",
    "                if an['category_id'] == cat_id:\n",
    "                    new_data['annotations'].append(an)\n",
    "    dump_path = os.path.join(dump_dir, 'ep' + str(epi) + '.json')\n",
    "    with open(dump_path, 'w') as f:\n",
    "        json.dump(new_data, f)"
   ]
  },
  {
   "cell_type": "markdown",
   "metadata": {},
   "source": [
    "### part4"
   ]
  },
  {
   "cell_type": "code",
   "execution_count": 7,
   "metadata": {},
   "outputs": [
    {
     "data": {
      "application/vnd.jupyter.widget-view+json": {
       "model_id": "166a5b65ada648a09cddf4693abf9b8e",
       "version_major": 2,
       "version_minor": 0
      },
      "text/plain": [
       "HBox(children=(IntProgress(value=0, max=10), HTML(value='')))"
      ]
     },
     "metadata": {},
     "output_type": "display_data"
    },
    {
     "name": "stdout",
     "output_type": "stream",
     "text": [
      "\n"
     ]
    }
   ],
   "source": [
    "cwd = os.getcwd()\n",
    "novel_cls_inds = cls_ind_in_coco_set4\n",
    "dump_dir = cwd + '/data/coco/annotations/coco20_test/set4'\n",
    "N_EPISODE = 10\n",
    "IM_PER_CLASS = 10\n",
    "\n",
    "new_categories = []\n",
    "for cat in data['categories']:\n",
    "    if cat['id'] in novel_cls_inds:\n",
    "        new_categories.append(cat)\n",
    "\n",
    "MIN_SIZE = 64\n",
    "cat_and_their_im_id = []\n",
    "for i, c_d in enumerate(new_categories):\n",
    "    cat_dict = {}\n",
    "    cat_id = c_d['id']\n",
    "    cat_dict['cat_id'] = cat_id\n",
    "    cat_dict['im_ids'] = []\n",
    "    for _key in im_summary.keys():  # for every im\n",
    "        im_dict = im_summary[_key]\n",
    "        if cat_id in im_dict['categories']:  # if this im has this class\n",
    "            valid_an = []\n",
    "            for an in im_dict['annotations']:  # for annos of this im\n",
    "                if an['category_id'] == cat_id:\n",
    "                    if an['bbox'][2] < MIN_SIZE or an['bbox'][3] < MIN_SIZE:\n",
    "                        continue\n",
    "                    else:\n",
    "                        valid_an.append(an)\n",
    "            if len(valid_an) > 0:  # only keep those id have more than one valid box of this class\n",
    "                cat_dict['im_ids'].append(_key)           \n",
    "    cat_and_their_im_id.append(cat_dict)\n",
    "cat_and_their_im_id.sort(key=lambda s: len(s['im_ids']))\n",
    "\n",
    "for epi in tqdm(range(N_EPISODE)):\n",
    "    ### generate query json\n",
    "    id_have_selected = []\n",
    "    episode = []\n",
    "    for cat_dict in cat_and_their_im_id:\n",
    "        new_dict = {}\n",
    "        cat_id = cat_dict['cat_id']\n",
    "        ids = cat_dict['im_ids']\n",
    "        for _id in id_have_selected:  # remove im that has been picked\n",
    "            if _id in ids:\n",
    "                ids.remove(_id)\n",
    "        random.seed(epi)\n",
    "        selected_ids = random.sample(ids, k=IM_PER_CLASS)\n",
    "        id_have_selected.extend(selected_ids)\n",
    "        new_dict['cat_id'] = cat_id\n",
    "        new_dict['im_ids'] = selected_ids\n",
    "        episode.append(new_dict)\n",
    "        \n",
    "    new_data = {}\n",
    "    new_data['info'] = data['info']\n",
    "    new_data['images'] = []\n",
    "    new_data['licenses'] = data['licenses']\n",
    "    new_data['annotations'] = []\n",
    "    new_data['categories'] = new_categories\n",
    "    for cat_dict in episode:\n",
    "        cat_id = cat_dict['cat_id']\n",
    "        id_list = cat_dict['im_ids']\n",
    "        for _id in id_list:\n",
    "            new_data['images'].append(im_summary[_id]['im_dict'])\n",
    "            for an in im_summary[_id]['annotations']:\n",
    "                if an['category_id'] == cat_id:\n",
    "                    new_data['annotations'].append(an)\n",
    "    dump_path = os.path.join(dump_dir, 'ep' + str(epi) + '.json')\n",
    "    with open(dump_path, 'w') as f:\n",
    "        json.dump(new_data, f)"
   ]
  },
  {
   "cell_type": "code",
   "execution_count": null,
   "metadata": {},
   "outputs": [],
   "source": []
  },
  {
   "cell_type": "code",
   "execution_count": 14,
   "metadata": {},
   "outputs": [
    {
     "data": {
      "text/plain": [
       "[1, 2, 3, 4, 5, 6, 7, 9, 16, 17, 18, 19, 20, 21, 44, 62, 63, 64, 67, 72]"
      ]
     },
     "execution_count": 14,
     "metadata": {},
     "output_type": "execute_result"
    }
   ],
   "source": [
    "_COCO.getCatIds()"
   ]
  },
  {
   "cell_type": "code",
   "execution_count": null,
   "metadata": {},
   "outputs": [],
   "source": [
    "# print(coco_cat_id_to_class_ind)\n",
    "# {1: 1, 2: 2, 3: 3, 4: 4, 5: 5, 6: 6, 7: 7, 9: 8, 16: 9, 17: 10, 18: 11, 19: 12, 20: 13, 21: 14, 44: 15, 62: 16, 63: 17, 64: 18, 67: 19, 72: 20}"
   ]
  },
  {
   "cell_type": "code",
   "execution_count": 17,
   "metadata": {},
   "outputs": [
    {
     "data": {
      "text/plain": [
       "[{'supercategory': 'person', 'id': 1, 'name': 'person'},\n",
       " {'supercategory': 'vehicle', 'id': 2, 'name': 'bicycle'},\n",
       " {'supercategory': 'vehicle', 'id': 3, 'name': 'car'},\n",
       " {'supercategory': 'vehicle', 'id': 4, 'name': 'motorcycle'},\n",
       " {'supercategory': 'vehicle', 'id': 5, 'name': 'airplane'},\n",
       " {'supercategory': 'vehicle', 'id': 6, 'name': 'bus'},\n",
       " {'supercategory': 'vehicle', 'id': 7, 'name': 'train'},\n",
       " {'supercategory': 'vehicle', 'id': 9, 'name': 'boat'},\n",
       " {'supercategory': 'animal', 'id': 16, 'name': 'bird'},\n",
       " {'supercategory': 'animal', 'id': 17, 'name': 'cat'},\n",
       " {'supercategory': 'animal', 'id': 18, 'name': 'dog'},\n",
       " {'supercategory': 'animal', 'id': 19, 'name': 'horse'},\n",
       " {'supercategory': 'animal', 'id': 20, 'name': 'sheep'},\n",
       " {'supercategory': 'animal', 'id': 21, 'name': 'cow'},\n",
       " {'supercategory': 'kitchen', 'id': 44, 'name': 'bottle'},\n",
       " {'supercategory': 'furniture', 'id': 62, 'name': 'chair'},\n",
       " {'supercategory': 'furniture', 'id': 63, 'name': 'couch'},\n",
       " {'supercategory': 'furniture', 'id': 64, 'name': 'potted plant'},\n",
       " {'supercategory': 'furniture', 'id': 67, 'name': 'dining table'},\n",
       " {'supercategory': 'electronic', 'id': 72, 'name': 'tv'}]"
      ]
     },
     "execution_count": 17,
     "metadata": {},
     "output_type": "execute_result"
    }
   ],
   "source": [
    "cats = _COCO.loadCats(_COCO.getCatIds())\n",
    "cats"
   ]
  },
  {
   "cell_type": "code",
   "execution_count": 47,
   "metadata": {},
   "outputs": [
    {
     "data": {
      "application/vnd.jupyter.widget-view+json": {
       "model_id": "36ff4102a3d74c228476f5cb7b01c287",
       "version_major": 2,
       "version_minor": 0
      },
      "text/plain": [
       "HBox(children=(FloatProgress(value=0.0, max=20.0), HTML(value='')))"
      ]
     },
     "metadata": {},
     "output_type": "display_data"
    },
    {
     "name": "stdout",
     "output_type": "stream",
     "text": [
      "\n"
     ]
    }
   ],
   "source": [
    "cwd = os.getcwd()\n",
    "dump_dir = cwd + '/data/coco/annotations/supports/'\n",
    "if not os.path.exists(dump_dir):\n",
    "    os.makedirs(dump_dir)\n",
    "N_SHOT = 30\n",
    "MIN_SIZE = 64\n",
    "RATIO = 2.\n",
    "\n",
    "for cat_dict in tqdm(cat_and_their_im_id):\n",
    "    new_dict = {}\n",
    "    cat_id = cat_dict['cat_id']\n",
    "    ids = cat_dict['im_ids']\n",
    "    random.seed(0)\n",
    "    random.shuffle(ids)\n",
    "    shot_cnt = 0\n",
    "    for _id in ids:\n",
    "        valid_anns = []\n",
    "        for an in im_summary[_id]['annotations']:\n",
    "            if an['category_id'] == cat_id:\n",
    "                box = an['bbox']\n",
    "                if box[2] < MIN_SIZE or box[3] < MIN_SIZE:\n",
    "                    continue\n",
    "                if box[2]/box[3] > RATIO or box[3]/box[2] > RATIO:\n",
    "                    continue\n",
    "                valid_anns.append(an)\n",
    "        if len(valid_anns) != 0:\n",
    "            im_dict = im_summary[_id]['im_dict']\n",
    "            im_path = cwd + '/data/coco/images/val2014/' + im_dict['file_name']\n",
    "            im = cv2.imread(im_path)\n",
    "            \n",
    "            random.seed(0)\n",
    "            chosen_ann = random.sample(valid_anns, k=1)[0]\n",
    "            box = [int(i) for i in chosen_ann['bbox']]\n",
    "            im_cropped = im[box[1]:box[1]+box[3]+1, box[0]:box[0]+box[2]+1, :]\n",
    "            file_name = dump_dir + str(cat_id) + '_' + _id + '.jpg'\n",
    "            cv2.imwrite(file_name, im_cropped)\n",
    "            shot_cnt += 1\n",
    "            if shot_cnt == N_SHOT:\n",
    "                break\n"
   ]
  },
  {
   "cell_type": "code",
   "execution_count": null,
   "metadata": {},
   "outputs": [],
   "source": []
  },
  {
   "cell_type": "code",
   "execution_count": null,
   "metadata": {},
   "outputs": [],
   "source": []
  }
 ],
 "metadata": {
  "kernelspec": {
   "display_name": "rcnn36",
   "language": "python",
   "name": "rcnn36"
  },
  "language_info": {
   "codemirror_mode": {
    "name": "ipython",
    "version": 3
   },
   "file_extension": ".py",
   "mimetype": "text/x-python",
   "name": "python",
   "nbconvert_exporter": "python",
   "pygments_lexer": "ipython3",
   "version": "3.7.3"
  }
 },
 "nbformat": 4,
 "nbformat_minor": 4
}
